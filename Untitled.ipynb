{
 "cells": [
  {
   "cell_type": "code",
   "execution_count": null,
   "id": "142df276",
   "metadata": {},
   "outputs": [],
   "source": [
    "import numpy as np\n",
    "\n",
    "matriks1 = np.array([[5,1], [4,2]])\n",
    "\n",
    "matriks2 = np.array([[0,2], [3,0]])\n",
    "\n",
    "tambah_m = matriks1 + matriks2\n",
    "\n",
    "kurang_m = matriks1 - matriks2\n",
    "\n",
    "p_skalar = np.dot(matriks1, matriks2)\n",
    "\n",
    "\n",
    "\n",
    "print(\"Hasil penambahan matriks  : \\n\",tambah_m)\n",
    "\n",
    "print(\"\\n\")\n",
    "\n",
    "print(\"Hasil pengurangan matriks : \\n\",kurang_m)\n",
    "\n",
    "print(\"\\n\")\n",
    "\n",
    "print(\"Hasil perkalian skalar matriks: \\n\",p_skalar)"
   ]
  }
 ],
 "metadata": {
  "kernelspec": {
   "display_name": "Python 3 (ipykernel)",
   "language": "python",
   "name": "python3"
  },
  "language_info": {
   "codemirror_mode": {
    "name": "ipython",
    "version": 3
   },
   "file_extension": ".py",
   "mimetype": "text/x-python",
   "name": "python",
   "nbconvert_exporter": "python",
   "pygments_lexer": "ipython3",
   "version": "3.9.13"
  }
 },
 "nbformat": 4,
 "nbformat_minor": 5
}
