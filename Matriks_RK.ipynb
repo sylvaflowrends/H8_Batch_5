{
 "cells": [
  {
   "cell_type": "markdown",
   "id": "d1591275",
   "metadata": {},
   "source": [
    "#### Nama :  Sylva Flowrends\n",
    "#### NPM : 51420230\n",
    "#### Kelas : 3IA16\n",
    "#### M8 Rekayasa Komputasional (Vclass)"
   ]
  },
  {
   "cell_type": "code",
   "execution_count": 1,
   "id": "18ef1b79",
   "metadata": {},
   "outputs": [],
   "source": [
    "import numpy as np"
   ]
  },
  {
   "cell_type": "code",
   "execution_count": 8,
   "id": "5f47b8a6",
   "metadata": {},
   "outputs": [
    {
     "name": "stdout",
     "output_type": "stream",
     "text": [
      "Hasil penambahan matriks  : \n",
      " [[5 3]\n",
      " [7 2]]\n",
      "\n",
      "\n",
      "Hasil pengurangan matriks : \n",
      " [[ 5 -1]\n",
      " [ 1  2]]\n",
      "\n",
      "\n",
      "Hasil perkalian skalar matriks: \n",
      " [[ 3 10]\n",
      " [ 6  8]]\n"
     ]
    }
   ],
   "source": [
    "matriks1 = np.array([[5,1], [4,2]])\n",
    "matriks2 = np.array([[0,2], [3,0]])\n",
    "\n",
    "tambah_m = matriks1 + matriks2\n",
    "kurang_m = matriks1 - matriks2\n",
    "p_skalar = np.dot(matriks1, matriks2)\n",
    "\n",
    "print(\"Hasil penambahan matriks  : \\n\",tambah_m)\n",
    "print(\"\\n\")\n",
    "print(\"Hasil pengurangan matriks : \\n\",kurang_m)\n",
    "print(\"\\n\")\n",
    "print(\"Hasil perkalian skalar matriks: \\n\",p_skalar)"
   ]
  }
 ],
 "metadata": {
  "kernelspec": {
   "display_name": "Python 3 (ipykernel)",
   "language": "python",
   "name": "python3"
  },
  "language_info": {
   "codemirror_mode": {
    "name": "ipython",
    "version": 3
   },
   "file_extension": ".py",
   "mimetype": "text/x-python",
   "name": "python",
   "nbconvert_exporter": "python",
   "pygments_lexer": "ipython3",
   "version": "3.9.13"
  }
 },
 "nbformat": 4,
 "nbformat_minor": 5
}
