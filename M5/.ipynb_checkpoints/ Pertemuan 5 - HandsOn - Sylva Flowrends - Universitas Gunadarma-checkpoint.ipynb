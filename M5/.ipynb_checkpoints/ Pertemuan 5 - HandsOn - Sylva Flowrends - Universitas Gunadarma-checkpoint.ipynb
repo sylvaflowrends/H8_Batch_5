{
 "cells": [
  {
   "cell_type": "markdown",
   "id": "377c59fd-2f69-4d11-8c71-76c6a10f4726",
   "metadata": {
    "id": "377c59fd-2f69-4d11-8c71-76c6a10f4726"
   },
   "source": [
    "# Exercise 5: Data Preparation : Integrasi Data\n",
    "<hr>"
   ]
  },
  {
   "cell_type": "markdown",
   "id": "8224ae79-fb08-413a-88a8-690f7eac01e5",
   "metadata": {
    "id": "8224ae79-fb08-413a-88a8-690f7eac01e5",
    "tags": []
   },
   "source": [
    "## Perkenalan Pandas\n",
    "### Apa itu Pandas?\n",
    "Pandas adalah pustaka Python yang digunakan untuk bekerja dengan kumpulan data.\n",
    "\n",
    "Pandas memiliki fungsi untuk menganalisis, membersihkan, menjelajahi, dan memanipulasi data.\n",
    "\n",
    "Nama \"Pandas\" memiliki referensi ke \"Data Panel\", dan \"Analisis Data Python\" dan dibuat oleh Wes McKinney pada tahun 2008."
   ]
  },
  {
   "cell_type": "markdown",
   "id": "1bdbb8ce-5817-40fc-b8a6-3f182d9e08da",
   "metadata": {
    "id": "1bdbb8ce-5817-40fc-b8a6-3f182d9e08da"
   },
   "source": [
    "\n",
    "<center>\n",
    "    <img src=\"https://drive.google.com/uc?export=view&id=1sSEJc3q-DC5DmW6Lale_b_B3WXTxJx1-\" height='500' width = '800'/>\n",
    "</center>\n"
   ]
  },
  {
   "cell_type": "markdown",
   "id": "0f397ac2-c1c9-4961-94d6-e8e56c726cf9",
   "metadata": {
    "id": "0f397ac2-c1c9-4961-94d6-e8e56c726cf9"
   },
   "source": [
    "### Mengapa Menggunakan Pandas?\n",
    "\n",
    "Pandas memungkinkan kita untuk menganalisis data besar dan membuat kesimpulan berdasarkan teori statistik.\n",
    "\n",
    "Pandas dapat membersihkan kumpulan data yang 'berantakan', dan membuatnya dapat dibaca dan relevan.\n",
    "\n",
    "Data yang relevan sangat penting dalam ilmu data."
   ]
  },
  {
   "cell_type": "markdown",
   "id": "1343e257-249f-4846-992a-db3fbbca398e",
   "metadata": {
    "id": "1343e257-249f-4846-992a-db3fbbca398e"
   },
   "source": [
    "## Permulaan menggunakan Pandas"
   ]
  },
  {
   "cell_type": "markdown",
   "id": "ec5a518b-c67d-4edc-a7db-740931111237",
   "metadata": {
    "id": "ec5a518b-c67d-4edc-a7db-740931111237"
   },
   "source": [
    "### Instalasi Pandas menggunakan Anaconda"
   ]
  },
  {
   "cell_type": "markdown",
   "id": "a484e23e-e158-4b64-b391-2c8cb5ac494d",
   "metadata": {
    "id": "a484e23e-e158-4b64-b391-2c8cb5ac494d"
   },
   "source": [
    "1. Buka Anaconda Navigator dari *windows start* atau *search box*."
   ]
  },
  {
   "cell_type": "markdown",
   "id": "747eebb9-9047-4cbc-8a11-f3a3cb2b691a",
   "metadata": {
    "id": "747eebb9-9047-4cbc-8a11-f3a3cb2b691a"
   },
   "source": [
    "<center>\n",
    "    <img src=\"https://drive.google.com/uc?export=view&id=1yEu1pT5p_BvXHzwdMa373VCNbUeE0-1H\" />\n",
    "</center>\n"
   ]
  },
  {
   "cell_type": "markdown",
   "id": "e3ae0221-5458-41d2-b192-e44f56b1e324",
   "metadata": {
    "id": "e3ae0221-5458-41d2-b192-e44f56b1e324"
   },
   "source": [
    "2. Membuat *Anaconda Environment* [ OPTIONAL ]\n",
    "\n",
    "This is optional but recommended to create an environment before you proceed. This gives complete segregation of different package installs for different projects you would be working on. If you already have an environment, you can use it too.\n",
    "\n",
    "Hal ini opsional untuk dilakukan, tetapi disarankan untuk membuat *environment python*. Hal ini berfungsi untuk mengisolasi ruang kerja kita dengan menggunakan versi pustaka Python yang berbeda untuk setiap proyek Python yang akan dikerjakan."
   ]
  },
  {
   "cell_type": "markdown",
   "id": "ee2113ee-1504-4fda-a429-cb5ff564dc26",
   "metadata": {
    "id": "ee2113ee-1504-4fda-a429-cb5ff564dc26"
   },
   "source": [
    "<center>\n",
    "    <img src=\"https://drive.google.com/uc?export=view&id=1fUDHXKADZ4bI8l76kSFFweQEplAYOKW9\" />\n",
    "</center>"
   ]
  },
  {
   "cell_type": "markdown",
   "id": "98c23a50-2479-4a66-8cad-6dbf585f3163",
   "metadata": {
    "id": "98c23a50-2479-4a66-8cad-6dbf585f3163"
   },
   "source": [
    "3. Buka Terminal Anaconda\n",
    "\n",
    "Buka terminal Anaconda dari Anaconda Navigator lalu <b>klik kanan</b> pada *environment* yang telah dipilih"
   ]
  },
  {
   "cell_type": "markdown",
   "id": "546b47e0-79e6-401c-a12c-e946cb844e4a",
   "metadata": {
    "id": "546b47e0-79e6-401c-a12c-e946cb844e4a"
   },
   "source": [
    "\n",
    "<center>\n",
    "    <img src=\"https://drive.google.com/uc?export=view&id=1I2HWVhAH1RW-GBGIlPJ4k-an-9qAOJEm\" />\n",
    "</center>"
   ]
  },
  {
   "cell_type": "markdown",
   "id": "5f656de8-b08c-45a4-868b-b9115f4a4579",
   "metadata": {
    "id": "5f656de8-b08c-45a4-868b-b9115f4a4579"
   },
   "source": [
    "4. Instalasi Pandas menggunakan command prompt / conda\n",
    "\n",
    "Sekarang masukkan <code>pip install pandas</code> atau <code>conda install pandas</code> untuk menginstal Pandas di lingkungan Anda."
   ]
  },
  {
   "cell_type": "markdown",
   "id": "35ba7a5d-2358-4fcf-bc4b-1328f8ed9091",
   "metadata": {
    "id": "35ba7a5d-2358-4fcf-bc4b-1328f8ed9091"
   },
   "source": [
    "\n",
    "\n",
    "<center>\n",
    "    <img src=\"https://drive.google.com/uc?export=view&id=15SBqPe3aHShrPlCgzMKHp-X7HqdIHp7c\" />\n",
    "</center>"
   ]
  },
  {
   "cell_type": "markdown",
   "id": "1215d177-40fd-48b7-bdd6-cb5f06809208",
   "metadata": {
    "id": "1215d177-40fd-48b7-bdd6-cb5f06809208"
   },
   "source": [
    "- Kita juga dapat menginstal Library menggunakan kode inline di <code>cell</code> kita menggunakan <code>pip install</code>"
   ]
  },
  {
   "cell_type": "code",
   "execution_count": null,
   "id": "df99d1f0-4dc7-4f56-b465-7de6d5ea7da4",
   "metadata": {
    "id": "df99d1f0-4dc7-4f56-b465-7de6d5ea7da4"
   },
   "outputs": [],
   "source": [
    "# inline style installing:\n",
    "# !pip install pandas"
   ]
  },
  {
   "cell_type": "markdown",
   "id": "a0483d6a-a347-46da-8fca-f71821e412f8",
   "metadata": {
    "id": "a0483d6a-a347-46da-8fca-f71821e412f8"
   },
   "source": [
    "- Melakukan pengecekkan untuk versi Pandas yang digunakan"
   ]
  },
  {
   "cell_type": "code",
   "execution_count": null,
   "id": "22fe14c4-a8e6-46cd-a4eb-a5a203489726",
   "metadata": {
    "colab": {
     "base_uri": "https://localhost:8080/",
     "height": 35
    },
    "executionInfo": {
     "elapsed": 12,
     "status": "ok",
     "timestamp": 1666683770035,
     "user": {
      "displayName": "detty purnamasari",
      "userId": "03969299503637377586"
     },
     "user_tz": -420
    },
    "id": "22fe14c4-a8e6-46cd-a4eb-a5a203489726",
    "outputId": "ed6c4719-3368-41d2-a5a4-47b2db6d187e"
   },
   "outputs": [
    {
     "data": {
      "application/vnd.google.colaboratory.intrinsic+json": {
       "type": "string"
      },
      "text/plain": [
       "'1.3.5'"
      ]
     },
     "execution_count": 14,
     "metadata": {},
     "output_type": "execute_result"
    }
   ],
   "source": [
    "import pandas as pd\n",
    "pd.__version__"
   ]
  },
  {
   "cell_type": "markdown",
   "id": "af5ca330-d74c-4ff5-b1b8-aff8248c6af2",
   "metadata": {
    "id": "af5ca330-d74c-4ff5-b1b8-aff8248c6af2"
   },
   "source": [
    "# Contoh Case\n",
    "<hr>"
   ]
  },
  {
   "cell_type": "markdown",
   "id": "edf69b48-66fa-495e-bc5b-ce541c950daf",
   "metadata": {
    "id": "edf69b48-66fa-495e-bc5b-ce541c950daf"
   },
   "source": [
    "Dalam latihan ini, kita akan menggabungkan rincian siswa dari dua dataset, yaitu student.csv dan marks.csv. Dataset student.csv berisi kolom; Age , Gender , Grade , dan Employed. Dataset marks.csv berisi kolom; Mark dan City. Kemudian tambahkan kolom Student_id setelah penggabungan dataset."
   ]
  },
  {
   "cell_type": "markdown",
   "id": "8e22766f-162a-4297-b0dd-f9bb096a3c31",
   "metadata": {
    "id": "8e22766f-162a-4297-b0dd-f9bb096a3c31"
   },
   "source": [
    "- Dataset student.csv dapat ditemukan di lokasi ini: https://github.com/TrainingByPackt/Data-Science-with-Python/blob/master/Chapter01/Data/student.csv\n",
    "\n",
    "- Dataset marks.csv dapat ditemukan di lokasi ini: https://github.com/TrainingByPackt/Data-Science-with-Python/blob/master/Chapter01/Data/mark.csv"
   ]
  },
  {
   "cell_type": "markdown",
   "id": "58d3a806-ea84-4e08-8421-768c64f141a8",
   "metadata": {
    "id": "58d3a806-ea84-4e08-8421-768c64f141a8"
   },
   "source": [
    "### 1. Import pandas library"
   ]
  },
  {
   "cell_type": "markdown",
   "id": "049ae363-b6b5-4559-9a71-e990286c1e39",
   "metadata": {
    "id": "049ae363-b6b5-4559-9a71-e990286c1e39"
   },
   "source": [
    "impor library pandas dan diberi alias pd, untuk memudahkan pemanggilan operasi library :"
   ]
  },
  {
   "cell_type": "code",
   "execution_count": null,
   "id": "bf774e5f-fcbd-472b-b8c8-dad785b518aa",
   "metadata": {
    "id": "bf774e5f-fcbd-472b-b8c8-dad785b518aa"
   },
   "outputs": [],
   "source": [
    "import pandas as pd"
   ]
  },
  {
   "cell_type": "markdown",
   "id": "e3af4d68-f2f0-40c9-a7f1-a02468900970",
   "metadata": {
    "id": "e3af4d68-f2f0-40c9-a7f1-a02468900970"
   },
   "source": [
    "### 2. Load dataset dari URL"
   ]
  },
  {
   "cell_type": "markdown",
   "id": "c70109a6-cc52-4705-a6a0-fa1a287e1b20",
   "metadata": {
    "id": "c70109a6-cc52-4705-a6a0-fa1a287e1b20"
   },
   "source": [
    "buat variabel dataset untuk menampung link dataset :"
   ]
  },
  {
   "cell_type": "code",
   "execution_count": null,
   "id": "ba8da0ac-5254-4015-b7d1-6c59a759882a",
   "metadata": {
    "id": "ba8da0ac-5254-4015-b7d1-6c59a759882a"
   },
   "outputs": [],
   "source": [
    "dataset1 = \"https://raw.githubusercontent.com/TrainingByPackt/Data-Science-with-Python/master/Chapter01/Data/student.csv\"\n",
    "dataset2 = \"https://raw.githubusercontent.com/TrainingByPackt/Data-Science-with-Python/master/Chapter01/Data/mark.csv\""
   ]
  },
  {
   "cell_type": "markdown",
   "id": "4075dc88-c213-4fc0-9261-12ad3c23f64f",
   "metadata": {
    "id": "4075dc88-c213-4fc0-9261-12ad3c23f64f"
   },
   "source": [
    "baca dataset csv dengan function _.read_csv()_ dari library pandas, kemudian ditampung kedalam variabel dataframe df :"
   ]
  },
  {
   "cell_type": "code",
   "execution_count": null,
   "id": "a9f70189-d2da-40d6-a52e-9bb926c900aa",
   "metadata": {
    "id": "a9f70189-d2da-40d6-a52e-9bb926c900aa"
   },
   "outputs": [],
   "source": [
    "df1 = pd.read_csv(dataset1)\n",
    "df2 = pd.read_csv(dataset2)"
   ]
  },
  {
   "cell_type": "markdown",
   "id": "a40dc493-2f13-4607-b726-04b64b80ca09",
   "metadata": {
    "id": "a40dc493-2f13-4607-b726-04b64b80ca09"
   },
   "source": [
    "### 3. View/open dataset "
   ]
  },
  {
   "cell_type": "markdown",
   "id": "a487ee02-2922-46b9-9789-d1f1803e1a60",
   "metadata": {
    "id": "a487ee02-2922-46b9-9789-d1f1803e1a60"
   },
   "source": [
    "Untuk mencetak lima baris pertama dari DataFrame, gunakan function _.head()_ dari library pandas:"
   ]
  },
  {
   "cell_type": "code",
   "execution_count": null,
   "id": "7afbfef0-5ba6-4e43-adac-a7b7802321c2",
   "metadata": {
    "colab": {
     "base_uri": "https://localhost:8080/",
     "height": 206
    },
    "executionInfo": {
     "elapsed": 544,
     "status": "ok",
     "timestamp": 1666683807780,
     "user": {
      "displayName": "detty purnamasari",
      "userId": "03969299503637377586"
     },
     "user_tz": -420
    },
    "id": "7afbfef0-5ba6-4e43-adac-a7b7802321c2",
    "outputId": "e2ba07af-918b-491f-f10b-4d31ea38e659"
   },
   "outputs": [
    {
     "data": {
      "text/html": [
       "\n",
       "  <div id=\"df-3fff05d6-7473-4b7f-a182-676558d1d812\">\n",
       "    <div class=\"colab-df-container\">\n",
       "      <div>\n",
       "<style scoped>\n",
       "    .dataframe tbody tr th:only-of-type {\n",
       "        vertical-align: middle;\n",
       "    }\n",
       "\n",
       "    .dataframe tbody tr th {\n",
       "        vertical-align: top;\n",
       "    }\n",
       "\n",
       "    .dataframe thead th {\n",
       "        text-align: right;\n",
       "    }\n",
       "</style>\n",
       "<table border=\"1\" class=\"dataframe\">\n",
       "  <thead>\n",
       "    <tr style=\"text-align: right;\">\n",
       "      <th></th>\n",
       "      <th>Student_id</th>\n",
       "      <th>Age</th>\n",
       "      <th>Gender</th>\n",
       "      <th>Grade</th>\n",
       "      <th>Employed</th>\n",
       "    </tr>\n",
       "  </thead>\n",
       "  <tbody>\n",
       "    <tr>\n",
       "      <th>0</th>\n",
       "      <td>1</td>\n",
       "      <td>19</td>\n",
       "      <td>Male</td>\n",
       "      <td>1st Class</td>\n",
       "      <td>yes</td>\n",
       "    </tr>\n",
       "    <tr>\n",
       "      <th>1</th>\n",
       "      <td>2</td>\n",
       "      <td>20</td>\n",
       "      <td>Female</td>\n",
       "      <td>2nd Class</td>\n",
       "      <td>no</td>\n",
       "    </tr>\n",
       "    <tr>\n",
       "      <th>2</th>\n",
       "      <td>3</td>\n",
       "      <td>18</td>\n",
       "      <td>Male</td>\n",
       "      <td>1st Class</td>\n",
       "      <td>no</td>\n",
       "    </tr>\n",
       "    <tr>\n",
       "      <th>3</th>\n",
       "      <td>4</td>\n",
       "      <td>21</td>\n",
       "      <td>Female</td>\n",
       "      <td>2nd Class</td>\n",
       "      <td>no</td>\n",
       "    </tr>\n",
       "    <tr>\n",
       "      <th>4</th>\n",
       "      <td>5</td>\n",
       "      <td>19</td>\n",
       "      <td>Male</td>\n",
       "      <td>1st Class</td>\n",
       "      <td>no</td>\n",
       "    </tr>\n",
       "  </tbody>\n",
       "</table>\n",
       "</div>\n",
       "      <button class=\"colab-df-convert\" onclick=\"convertToInteractive('df-3fff05d6-7473-4b7f-a182-676558d1d812')\"\n",
       "              title=\"Convert this dataframe to an interactive table.\"\n",
       "              style=\"display:none;\">\n",
       "        \n",
       "  <svg xmlns=\"http://www.w3.org/2000/svg\" height=\"24px\"viewBox=\"0 0 24 24\"\n",
       "       width=\"24px\">\n",
       "    <path d=\"M0 0h24v24H0V0z\" fill=\"none\"/>\n",
       "    <path d=\"M18.56 5.44l.94 2.06.94-2.06 2.06-.94-2.06-.94-.94-2.06-.94 2.06-2.06.94zm-11 1L8.5 8.5l.94-2.06 2.06-.94-2.06-.94L8.5 2.5l-.94 2.06-2.06.94zm10 10l.94 2.06.94-2.06 2.06-.94-2.06-.94-.94-2.06-.94 2.06-2.06.94z\"/><path d=\"M17.41 7.96l-1.37-1.37c-.4-.4-.92-.59-1.43-.59-.52 0-1.04.2-1.43.59L10.3 9.45l-7.72 7.72c-.78.78-.78 2.05 0 2.83L4 21.41c.39.39.9.59 1.41.59.51 0 1.02-.2 1.41-.59l7.78-7.78 2.81-2.81c.8-.78.8-2.07 0-2.86zM5.41 20L4 18.59l7.72-7.72 1.47 1.35L5.41 20z\"/>\n",
       "  </svg>\n",
       "      </button>\n",
       "      \n",
       "  <style>\n",
       "    .colab-df-container {\n",
       "      display:flex;\n",
       "      flex-wrap:wrap;\n",
       "      gap: 12px;\n",
       "    }\n",
       "\n",
       "    .colab-df-convert {\n",
       "      background-color: #E8F0FE;\n",
       "      border: none;\n",
       "      border-radius: 50%;\n",
       "      cursor: pointer;\n",
       "      display: none;\n",
       "      fill: #1967D2;\n",
       "      height: 32px;\n",
       "      padding: 0 0 0 0;\n",
       "      width: 32px;\n",
       "    }\n",
       "\n",
       "    .colab-df-convert:hover {\n",
       "      background-color: #E2EBFA;\n",
       "      box-shadow: 0px 1px 2px rgba(60, 64, 67, 0.3), 0px 1px 3px 1px rgba(60, 64, 67, 0.15);\n",
       "      fill: #174EA6;\n",
       "    }\n",
       "\n",
       "    [theme=dark] .colab-df-convert {\n",
       "      background-color: #3B4455;\n",
       "      fill: #D2E3FC;\n",
       "    }\n",
       "\n",
       "    [theme=dark] .colab-df-convert:hover {\n",
       "      background-color: #434B5C;\n",
       "      box-shadow: 0px 1px 3px 1px rgba(0, 0, 0, 0.15);\n",
       "      filter: drop-shadow(0px 1px 2px rgba(0, 0, 0, 0.3));\n",
       "      fill: #FFFFFF;\n",
       "    }\n",
       "  </style>\n",
       "\n",
       "      <script>\n",
       "        const buttonEl =\n",
       "          document.querySelector('#df-3fff05d6-7473-4b7f-a182-676558d1d812 button.colab-df-convert');\n",
       "        buttonEl.style.display =\n",
       "          google.colab.kernel.accessAllowed ? 'block' : 'none';\n",
       "\n",
       "        async function convertToInteractive(key) {\n",
       "          const element = document.querySelector('#df-3fff05d6-7473-4b7f-a182-676558d1d812');\n",
       "          const dataTable =\n",
       "            await google.colab.kernel.invokeFunction('convertToInteractive',\n",
       "                                                     [key], {});\n",
       "          if (!dataTable) return;\n",
       "\n",
       "          const docLinkHtml = 'Like what you see? Visit the ' +\n",
       "            '<a target=\"_blank\" href=https://colab.research.google.com/notebooks/data_table.ipynb>data table notebook</a>'\n",
       "            + ' to learn more about interactive tables.';\n",
       "          element.innerHTML = '';\n",
       "          dataTable['output_type'] = 'display_data';\n",
       "          await google.colab.output.renderOutput(dataTable, element);\n",
       "          const docLink = document.createElement('div');\n",
       "          docLink.innerHTML = docLinkHtml;\n",
       "          element.appendChild(docLink);\n",
       "        }\n",
       "      </script>\n",
       "    </div>\n",
       "  </div>\n",
       "  "
      ],
      "text/plain": [
       "   Student_id  Age  Gender      Grade Employed\n",
       "0           1   19    Male  1st Class      yes\n",
       "1           2   20  Female  2nd Class       no\n",
       "2           3   18    Male  1st Class       no\n",
       "3           4   21  Female  2nd Class       no\n",
       "4           5   19    Male  1st Class       no"
      ]
     },
     "execution_count": 18,
     "metadata": {},
     "output_type": "execute_result"
    }
   ],
   "source": [
    "df1.head()"
   ]
  },
  {
   "cell_type": "code",
   "execution_count": null,
   "id": "70c7ff6c-04df-4dff-9fe7-11eb2a081d73",
   "metadata": {
    "colab": {
     "base_uri": "https://localhost:8080/",
     "height": 206
    },
    "executionInfo": {
     "elapsed": 328,
     "status": "ok",
     "timestamp": 1666683812100,
     "user": {
      "displayName": "detty purnamasari",
      "userId": "03969299503637377586"
     },
     "user_tz": -420
    },
    "id": "70c7ff6c-04df-4dff-9fe7-11eb2a081d73",
    "outputId": "3c06c737-9ab6-4bd3-d576-d67219cc5209"
   },
   "outputs": [
    {
     "data": {
      "text/html": [
       "\n",
       "  <div id=\"df-41bd87f8-ee2c-4bff-b0f9-8333c40cee15\">\n",
       "    <div class=\"colab-df-container\">\n",
       "      <div>\n",
       "<style scoped>\n",
       "    .dataframe tbody tr th:only-of-type {\n",
       "        vertical-align: middle;\n",
       "    }\n",
       "\n",
       "    .dataframe tbody tr th {\n",
       "        vertical-align: top;\n",
       "    }\n",
       "\n",
       "    .dataframe thead th {\n",
       "        text-align: right;\n",
       "    }\n",
       "</style>\n",
       "<table border=\"1\" class=\"dataframe\">\n",
       "  <thead>\n",
       "    <tr style=\"text-align: right;\">\n",
       "      <th></th>\n",
       "      <th>Student_id</th>\n",
       "      <th>Mark</th>\n",
       "      <th>City</th>\n",
       "    </tr>\n",
       "  </thead>\n",
       "  <tbody>\n",
       "    <tr>\n",
       "      <th>0</th>\n",
       "      <td>1</td>\n",
       "      <td>95</td>\n",
       "      <td>Chennai</td>\n",
       "    </tr>\n",
       "    <tr>\n",
       "      <th>1</th>\n",
       "      <td>2</td>\n",
       "      <td>70</td>\n",
       "      <td>Delhi</td>\n",
       "    </tr>\n",
       "    <tr>\n",
       "      <th>2</th>\n",
       "      <td>3</td>\n",
       "      <td>98</td>\n",
       "      <td>Mumbai</td>\n",
       "    </tr>\n",
       "    <tr>\n",
       "      <th>3</th>\n",
       "      <td>4</td>\n",
       "      <td>75</td>\n",
       "      <td>Pune</td>\n",
       "    </tr>\n",
       "    <tr>\n",
       "      <th>4</th>\n",
       "      <td>5</td>\n",
       "      <td>89</td>\n",
       "      <td>Kochi</td>\n",
       "    </tr>\n",
       "  </tbody>\n",
       "</table>\n",
       "</div>\n",
       "      <button class=\"colab-df-convert\" onclick=\"convertToInteractive('df-41bd87f8-ee2c-4bff-b0f9-8333c40cee15')\"\n",
       "              title=\"Convert this dataframe to an interactive table.\"\n",
       "              style=\"display:none;\">\n",
       "        \n",
       "  <svg xmlns=\"http://www.w3.org/2000/svg\" height=\"24px\"viewBox=\"0 0 24 24\"\n",
       "       width=\"24px\">\n",
       "    <path d=\"M0 0h24v24H0V0z\" fill=\"none\"/>\n",
       "    <path d=\"M18.56 5.44l.94 2.06.94-2.06 2.06-.94-2.06-.94-.94-2.06-.94 2.06-2.06.94zm-11 1L8.5 8.5l.94-2.06 2.06-.94-2.06-.94L8.5 2.5l-.94 2.06-2.06.94zm10 10l.94 2.06.94-2.06 2.06-.94-2.06-.94-.94-2.06-.94 2.06-2.06.94z\"/><path d=\"M17.41 7.96l-1.37-1.37c-.4-.4-.92-.59-1.43-.59-.52 0-1.04.2-1.43.59L10.3 9.45l-7.72 7.72c-.78.78-.78 2.05 0 2.83L4 21.41c.39.39.9.59 1.41.59.51 0 1.02-.2 1.41-.59l7.78-7.78 2.81-2.81c.8-.78.8-2.07 0-2.86zM5.41 20L4 18.59l7.72-7.72 1.47 1.35L5.41 20z\"/>\n",
       "  </svg>\n",
       "      </button>\n",
       "      \n",
       "  <style>\n",
       "    .colab-df-container {\n",
       "      display:flex;\n",
       "      flex-wrap:wrap;\n",
       "      gap: 12px;\n",
       "    }\n",
       "\n",
       "    .colab-df-convert {\n",
       "      background-color: #E8F0FE;\n",
       "      border: none;\n",
       "      border-radius: 50%;\n",
       "      cursor: pointer;\n",
       "      display: none;\n",
       "      fill: #1967D2;\n",
       "      height: 32px;\n",
       "      padding: 0 0 0 0;\n",
       "      width: 32px;\n",
       "    }\n",
       "\n",
       "    .colab-df-convert:hover {\n",
       "      background-color: #E2EBFA;\n",
       "      box-shadow: 0px 1px 2px rgba(60, 64, 67, 0.3), 0px 1px 3px 1px rgba(60, 64, 67, 0.15);\n",
       "      fill: #174EA6;\n",
       "    }\n",
       "\n",
       "    [theme=dark] .colab-df-convert {\n",
       "      background-color: #3B4455;\n",
       "      fill: #D2E3FC;\n",
       "    }\n",
       "\n",
       "    [theme=dark] .colab-df-convert:hover {\n",
       "      background-color: #434B5C;\n",
       "      box-shadow: 0px 1px 3px 1px rgba(0, 0, 0, 0.15);\n",
       "      filter: drop-shadow(0px 1px 2px rgba(0, 0, 0, 0.3));\n",
       "      fill: #FFFFFF;\n",
       "    }\n",
       "  </style>\n",
       "\n",
       "      <script>\n",
       "        const buttonEl =\n",
       "          document.querySelector('#df-41bd87f8-ee2c-4bff-b0f9-8333c40cee15 button.colab-df-convert');\n",
       "        buttonEl.style.display =\n",
       "          google.colab.kernel.accessAllowed ? 'block' : 'none';\n",
       "\n",
       "        async function convertToInteractive(key) {\n",
       "          const element = document.querySelector('#df-41bd87f8-ee2c-4bff-b0f9-8333c40cee15');\n",
       "          const dataTable =\n",
       "            await google.colab.kernel.invokeFunction('convertToInteractive',\n",
       "                                                     [key], {});\n",
       "          if (!dataTable) return;\n",
       "\n",
       "          const docLinkHtml = 'Like what you see? Visit the ' +\n",
       "            '<a target=\"_blank\" href=https://colab.research.google.com/notebooks/data_table.ipynb>data table notebook</a>'\n",
       "            + ' to learn more about interactive tables.';\n",
       "          element.innerHTML = '';\n",
       "          dataTable['output_type'] = 'display_data';\n",
       "          await google.colab.output.renderOutput(dataTable, element);\n",
       "          const docLink = document.createElement('div');\n",
       "          docLink.innerHTML = docLinkHtml;\n",
       "          element.appendChild(docLink);\n",
       "        }\n",
       "      </script>\n",
       "    </div>\n",
       "  </div>\n",
       "  "
      ],
      "text/plain": [
       "   Student_id  Mark     City\n",
       "0           1    95  Chennai\n",
       "1           2    70    Delhi\n",
       "2           3    98   Mumbai\n",
       "3           4    75     Pune\n",
       "4           5    89    Kochi"
      ]
     },
     "execution_count": 19,
     "metadata": {},
     "output_type": "execute_result"
    }
   ],
   "source": [
    "df2.head()"
   ]
  },
  {
   "cell_type": "markdown",
   "id": "1e9b2d1a-c370-45f3-8f5c-3864de0275b4",
   "metadata": {
    "id": "1e9b2d1a-c370-45f3-8f5c-3864de0275b4"
   },
   "source": [
    "### Latihan 1 : \n",
    "Cetak lima baris terakhir dari DataFrame __df1__ memanfaatkan function dari library pandas!"
   ]
  },
  {
   "cell_type": "code",
   "execution_count": null,
   "id": "e22eefad-1308-4262-a08e-cdd061ddc3a3",
   "metadata": {
    "id": "e22eefad-1308-4262-a08e-cdd061ddc3a3",
    "tags": []
   },
   "outputs": [],
   "source": [
    "# Jawab disini"
   ]
  },
  {
   "cell_type": "markdown",
   "id": "7fb56a5d-97bb-47f7-a3bd-941d70997d36",
   "metadata": {
    "id": "7fb56a5d-97bb-47f7-a3bd-941d70997d36"
   },
   "source": [
    "### 4. Data Integration"
   ]
  },
  {
   "cell_type": "markdown",
   "id": "4e24b329-6d3b-4acc-8c8c-0dce5c89844f",
   "metadata": {
    "id": "4e24b329-6d3b-4acc-8c8c-0dce5c89844f"
   },
   "source": [
    "Student_id adalah primary untuk kedua dataset. Lakukan integrasi data pada kedua DataFrames sehubungan dengan kolom Student_id menggunakan function _pd.merge()_ dari library pandas, yang ditampung dalam variabel df."
   ]
  },
  {
   "cell_type": "code",
   "execution_count": null,
   "id": "b0cc66e8-81a7-45c1-91f0-75e705fb2c99",
   "metadata": {
    "id": "b0cc66e8-81a7-45c1-91f0-75e705fb2c99"
   },
   "outputs": [],
   "source": [
    "df = pd.merge(df1, df2, on = 'Student_id')"
   ]
  },
  {
   "cell_type": "markdown",
   "id": "90177e40-b9e8-4dbc-a46a-6d9e716b4a6b",
   "metadata": {
    "id": "90177e40-b9e8-4dbc-a46a-6d9e716b4a6b"
   },
   "source": [
    "menampilkan hasil integrasi data :"
   ]
  },
  {
   "cell_type": "code",
   "execution_count": null,
   "id": "d6319fe5-e170-45d2-afbe-875cdfa16b40",
   "metadata": {
    "colab": {
     "base_uri": "https://localhost:8080/",
     "height": 424
    },
    "executionInfo": {
     "elapsed": 314,
     "status": "ok",
     "timestamp": 1666683849310,
     "user": {
      "displayName": "detty purnamasari",
      "userId": "03969299503637377586"
     },
     "user_tz": -420
    },
    "id": "d6319fe5-e170-45d2-afbe-875cdfa16b40",
    "outputId": "16681ae9-cb86-4dc6-bbda-d15732a1ae74"
   },
   "outputs": [
    {
     "data": {
      "text/html": [
       "\n",
       "  <div id=\"df-c840b426-3847-483f-97e5-99740df8ab2f\">\n",
       "    <div class=\"colab-df-container\">\n",
       "      <div>\n",
       "<style scoped>\n",
       "    .dataframe tbody tr th:only-of-type {\n",
       "        vertical-align: middle;\n",
       "    }\n",
       "\n",
       "    .dataframe tbody tr th {\n",
       "        vertical-align: top;\n",
       "    }\n",
       "\n",
       "    .dataframe thead th {\n",
       "        text-align: right;\n",
       "    }\n",
       "</style>\n",
       "<table border=\"1\" class=\"dataframe\">\n",
       "  <thead>\n",
       "    <tr style=\"text-align: right;\">\n",
       "      <th></th>\n",
       "      <th>Student_id</th>\n",
       "      <th>Age</th>\n",
       "      <th>Gender</th>\n",
       "      <th>Grade</th>\n",
       "      <th>Employed</th>\n",
       "      <th>Mark</th>\n",
       "      <th>City</th>\n",
       "    </tr>\n",
       "  </thead>\n",
       "  <tbody>\n",
       "    <tr>\n",
       "      <th>0</th>\n",
       "      <td>1</td>\n",
       "      <td>19</td>\n",
       "      <td>Male</td>\n",
       "      <td>1st Class</td>\n",
       "      <td>yes</td>\n",
       "      <td>95</td>\n",
       "      <td>Chennai</td>\n",
       "    </tr>\n",
       "    <tr>\n",
       "      <th>1</th>\n",
       "      <td>2</td>\n",
       "      <td>20</td>\n",
       "      <td>Female</td>\n",
       "      <td>2nd Class</td>\n",
       "      <td>no</td>\n",
       "      <td>70</td>\n",
       "      <td>Delhi</td>\n",
       "    </tr>\n",
       "    <tr>\n",
       "      <th>2</th>\n",
       "      <td>3</td>\n",
       "      <td>18</td>\n",
       "      <td>Male</td>\n",
       "      <td>1st Class</td>\n",
       "      <td>no</td>\n",
       "      <td>98</td>\n",
       "      <td>Mumbai</td>\n",
       "    </tr>\n",
       "    <tr>\n",
       "      <th>3</th>\n",
       "      <td>4</td>\n",
       "      <td>21</td>\n",
       "      <td>Female</td>\n",
       "      <td>2nd Class</td>\n",
       "      <td>no</td>\n",
       "      <td>75</td>\n",
       "      <td>Pune</td>\n",
       "    </tr>\n",
       "    <tr>\n",
       "      <th>4</th>\n",
       "      <td>5</td>\n",
       "      <td>19</td>\n",
       "      <td>Male</td>\n",
       "      <td>1st Class</td>\n",
       "      <td>no</td>\n",
       "      <td>89</td>\n",
       "      <td>Kochi</td>\n",
       "    </tr>\n",
       "    <tr>\n",
       "      <th>...</th>\n",
       "      <td>...</td>\n",
       "      <td>...</td>\n",
       "      <td>...</td>\n",
       "      <td>...</td>\n",
       "      <td>...</td>\n",
       "      <td>...</td>\n",
       "      <td>...</td>\n",
       "    </tr>\n",
       "    <tr>\n",
       "      <th>227</th>\n",
       "      <td>228</td>\n",
       "      <td>21</td>\n",
       "      <td>Female</td>\n",
       "      <td>1st Class</td>\n",
       "      <td>no</td>\n",
       "      <td>99</td>\n",
       "      <td>Pune</td>\n",
       "    </tr>\n",
       "    <tr>\n",
       "      <th>228</th>\n",
       "      <td>229</td>\n",
       "      <td>20</td>\n",
       "      <td>Male</td>\n",
       "      <td>2nd Class</td>\n",
       "      <td>no</td>\n",
       "      <td>70</td>\n",
       "      <td>Chennai</td>\n",
       "    </tr>\n",
       "    <tr>\n",
       "      <th>229</th>\n",
       "      <td>230</td>\n",
       "      <td>20</td>\n",
       "      <td>Male</td>\n",
       "      <td>3rd Class</td>\n",
       "      <td>yes</td>\n",
       "      <td>55</td>\n",
       "      <td>Delhi</td>\n",
       "    </tr>\n",
       "    <tr>\n",
       "      <th>230</th>\n",
       "      <td>231</td>\n",
       "      <td>19</td>\n",
       "      <td>Female</td>\n",
       "      <td>1st Class</td>\n",
       "      <td>yes</td>\n",
       "      <td>97</td>\n",
       "      <td>Mumbai</td>\n",
       "    </tr>\n",
       "    <tr>\n",
       "      <th>231</th>\n",
       "      <td>232</td>\n",
       "      <td>20</td>\n",
       "      <td>Male</td>\n",
       "      <td>3rd Class</td>\n",
       "      <td>yes</td>\n",
       "      <td>59</td>\n",
       "      <td>Pune</td>\n",
       "    </tr>\n",
       "  </tbody>\n",
       "</table>\n",
       "<p>232 rows × 7 columns</p>\n",
       "</div>\n",
       "      <button class=\"colab-df-convert\" onclick=\"convertToInteractive('df-c840b426-3847-483f-97e5-99740df8ab2f')\"\n",
       "              title=\"Convert this dataframe to an interactive table.\"\n",
       "              style=\"display:none;\">\n",
       "        \n",
       "  <svg xmlns=\"http://www.w3.org/2000/svg\" height=\"24px\"viewBox=\"0 0 24 24\"\n",
       "       width=\"24px\">\n",
       "    <path d=\"M0 0h24v24H0V0z\" fill=\"none\"/>\n",
       "    <path d=\"M18.56 5.44l.94 2.06.94-2.06 2.06-.94-2.06-.94-.94-2.06-.94 2.06-2.06.94zm-11 1L8.5 8.5l.94-2.06 2.06-.94-2.06-.94L8.5 2.5l-.94 2.06-2.06.94zm10 10l.94 2.06.94-2.06 2.06-.94-2.06-.94-.94-2.06-.94 2.06-2.06.94z\"/><path d=\"M17.41 7.96l-1.37-1.37c-.4-.4-.92-.59-1.43-.59-.52 0-1.04.2-1.43.59L10.3 9.45l-7.72 7.72c-.78.78-.78 2.05 0 2.83L4 21.41c.39.39.9.59 1.41.59.51 0 1.02-.2 1.41-.59l7.78-7.78 2.81-2.81c.8-.78.8-2.07 0-2.86zM5.41 20L4 18.59l7.72-7.72 1.47 1.35L5.41 20z\"/>\n",
       "  </svg>\n",
       "      </button>\n",
       "      \n",
       "  <style>\n",
       "    .colab-df-container {\n",
       "      display:flex;\n",
       "      flex-wrap:wrap;\n",
       "      gap: 12px;\n",
       "    }\n",
       "\n",
       "    .colab-df-convert {\n",
       "      background-color: #E8F0FE;\n",
       "      border: none;\n",
       "      border-radius: 50%;\n",
       "      cursor: pointer;\n",
       "      display: none;\n",
       "      fill: #1967D2;\n",
       "      height: 32px;\n",
       "      padding: 0 0 0 0;\n",
       "      width: 32px;\n",
       "    }\n",
       "\n",
       "    .colab-df-convert:hover {\n",
       "      background-color: #E2EBFA;\n",
       "      box-shadow: 0px 1px 2px rgba(60, 64, 67, 0.3), 0px 1px 3px 1px rgba(60, 64, 67, 0.15);\n",
       "      fill: #174EA6;\n",
       "    }\n",
       "\n",
       "    [theme=dark] .colab-df-convert {\n",
       "      background-color: #3B4455;\n",
       "      fill: #D2E3FC;\n",
       "    }\n",
       "\n",
       "    [theme=dark] .colab-df-convert:hover {\n",
       "      background-color: #434B5C;\n",
       "      box-shadow: 0px 1px 3px 1px rgba(0, 0, 0, 0.15);\n",
       "      filter: drop-shadow(0px 1px 2px rgba(0, 0, 0, 0.3));\n",
       "      fill: #FFFFFF;\n",
       "    }\n",
       "  </style>\n",
       "\n",
       "      <script>\n",
       "        const buttonEl =\n",
       "          document.querySelector('#df-c840b426-3847-483f-97e5-99740df8ab2f button.colab-df-convert');\n",
       "        buttonEl.style.display =\n",
       "          google.colab.kernel.accessAllowed ? 'block' : 'none';\n",
       "\n",
       "        async function convertToInteractive(key) {\n",
       "          const element = document.querySelector('#df-c840b426-3847-483f-97e5-99740df8ab2f');\n",
       "          const dataTable =\n",
       "            await google.colab.kernel.invokeFunction('convertToInteractive',\n",
       "                                                     [key], {});\n",
       "          if (!dataTable) return;\n",
       "\n",
       "          const docLinkHtml = 'Like what you see? Visit the ' +\n",
       "            '<a target=\"_blank\" href=https://colab.research.google.com/notebooks/data_table.ipynb>data table notebook</a>'\n",
       "            + ' to learn more about interactive tables.';\n",
       "          element.innerHTML = '';\n",
       "          dataTable['output_type'] = 'display_data';\n",
       "          await google.colab.output.renderOutput(dataTable, element);\n",
       "          const docLink = document.createElement('div');\n",
       "          docLink.innerHTML = docLinkHtml;\n",
       "          element.appendChild(docLink);\n",
       "        }\n",
       "      </script>\n",
       "    </div>\n",
       "  </div>\n",
       "  "
      ],
      "text/plain": [
       "     Student_id  Age  Gender      Grade Employed  Mark     City\n",
       "0             1   19    Male  1st Class      yes    95  Chennai\n",
       "1             2   20  Female  2nd Class       no    70    Delhi\n",
       "2             3   18    Male  1st Class       no    98   Mumbai\n",
       "3             4   21  Female  2nd Class       no    75     Pune\n",
       "4             5   19    Male  1st Class       no    89    Kochi\n",
       "..          ...  ...     ...        ...      ...   ...      ...\n",
       "227         228   21  Female  1st Class       no    99     Pune\n",
       "228         229   20    Male  2nd Class       no    70  Chennai\n",
       "229         230   20    Male  3rd Class      yes    55    Delhi\n",
       "230         231   19  Female  1st Class      yes    97   Mumbai\n",
       "231         232   20    Male  3rd Class      yes    59     Pune\n",
       "\n",
       "[232 rows x 7 columns]"
      ]
     },
     "execution_count": 23,
     "metadata": {},
     "output_type": "execute_result"
    }
   ],
   "source": [
    "df"
   ]
  },
  {
   "cell_type": "markdown",
   "id": "7e3d549a-9b51-4960-9af0-2f4a4e3c5ff1",
   "metadata": {
    "id": "7e3d549a-9b51-4960-9af0-2f4a4e3c5ff1"
   },
   "source": [
    "### Latihan 2 : \n",
    "Cetak 15 baris pertama dari DataFrame __df__ memanfaatkan function dari library pandas!"
   ]
  },
  {
   "cell_type": "code",
   "execution_count": null,
   "id": "3183b189-8f25-4800-9582-05f2f92c604f",
   "metadata": {
    "id": "3183b189-8f25-4800-9582-05f2f92c604f",
    "tags": []
   },
   "outputs": [],
   "source": [
    "# Jawab disini"
   ]
  },
  {
   "cell_type": "markdown",
   "id": "cfc2718e-a8bd-49da-9f91-ba1b046cf521",
   "metadata": {
    "id": "cfc2718e-a8bd-49da-9f91-ba1b046cf521"
   },
   "source": [
    "## Contoh Case Selanjutnya\n",
    "<hr>"
   ]
  },
  {
   "cell_type": "markdown",
   "id": "ce89baf2-1e68-471c-aba7-e73a32cb0fd8",
   "metadata": {
    "id": "ce89baf2-1e68-471c-aba7-e73a32cb0fd8"
   },
   "source": [
    "Dataset yang akan digunakan untuk case ini adalah dataset penjualan\n",
    "<a href=\"https://github.com/minoguep/pandas_blog_example/blob/master/data/input_data/superstore.xls?raw=true\">superstore</a>. Dataset ini berisi informasi tentang penjualan yang dilakukan oleh gerai ritel fiktif di AS. Dataset disediakan dalam format .xls dan data tersebar di tiga sheet berbeda:\n",
    "\n",
    "- Orders: Ini adalah tabel utama dalam dataset dan berisi informasi untuk setiap pesanan seperti id pesanan, lokasi toko, jumlah, dan keuntungan.\n",
    "\n",
    "- Returns: Tabel ini berisi daftar id pesanan yang telah dikembalikan.\n",
    "\n",
    "- People: Tabel ini berisi nama manajer regional untuk setiap wilayah yang terdapat dalam tabel pesanan."
   ]
  },
  {
   "cell_type": "markdown",
   "id": "b4849ce1-0c7b-42a4-8d55-80d318c060b4",
   "metadata": {
    "id": "b4849ce1-0c7b-42a4-8d55-80d318c060b4"
   },
   "source": [
    "### 1. Load and Open dataset "
   ]
  },
  {
   "cell_type": "markdown",
   "id": "94bb0f48-37c3-4312-8929-4dfae9dfadd4",
   "metadata": {
    "id": "94bb0f48-37c3-4312-8929-4dfae9dfadd4"
   },
   "source": [
    "Untuk dapat load dan open file dataset ber format excel, Format file Excel kita perlu mendefinisikan mesin/engine secara manual menggunakan 'xlrd'. Langkah selanjutnya install library xlrd :"
   ]
  },
  {
   "cell_type": "code",
   "execution_count": null,
   "id": "e30d390f-24e2-4780-8cf4-bb9caaea31bc",
   "metadata": {
    "colab": {
     "base_uri": "https://localhost:8080/"
    },
    "executionInfo": {
     "elapsed": 4003,
     "status": "ok",
     "timestamp": 1666682611344,
     "user": {
      "displayName": "detty purnamasari",
      "userId": "03969299503637377586"
     },
     "user_tz": -420
    },
    "id": "e30d390f-24e2-4780-8cf4-bb9caaea31bc",
    "outputId": "ea679d3a-6a51-4a64-af90-c0698390ae2b"
   },
   "outputs": [
    {
     "name": "stdout",
     "output_type": "stream",
     "text": [
      "Looking in indexes: https://pypi.org/simple, https://us-python.pkg.dev/colab-wheels/public/simple/\n",
      "Requirement already satisfied: xlrd in /usr/local/lib/python3.7/dist-packages (1.1.0)\n"
     ]
    }
   ],
   "source": [
    "!pip install xlrd"
   ]
  },
  {
   "cell_type": "markdown",
   "id": "ff001411-695f-4d8f-938c-8a9b048ff85c",
   "metadata": {
    "id": "ff001411-695f-4d8f-938c-8a9b048ff85c"
   },
   "source": [
    "baca dataset xls dengan function _.read_csv()_ dari library pandas, kemudian ditampung kedalam variabel dataframe masing - masing sheet :"
   ]
  },
  {
   "cell_type": "code",
   "execution_count": null,
   "id": "a02f57e1-896c-4810-9e64-62f1b04f4938",
   "metadata": {
    "id": "a02f57e1-896c-4810-9e64-62f1b04f4938"
   },
   "outputs": [],
   "source": [
    "# dataset data yang berisi beberapa informasi tentang pesanan/penjualan dari toko\n",
    "orders = pd.read_excel('superstore.xls', sheet_name='Orders', engine='xlrd')\n",
    "# dataset berisi informasi tentang pesanan yang dikembalikan\n",
    "returns = pd.read_excel('superstore.xls', sheet_name='Returns', engine='xlrd')\n",
    "# dataset berisi informasi tentang manajer untuk setiap wilayah dalam kumpulan data pesanan\n",
    "people = pd.read_excel('superstore.xls', sheet_name='People', engine='xlrd')"
   ]
  },
  {
   "cell_type": "markdown",
   "id": "0f4c62f4-3b99-4557-a181-2125ce488386",
   "metadata": {
    "id": "0f4c62f4-3b99-4557-a181-2125ce488386"
   },
   "source": [
    "Lihat DataFrames :"
   ]
  },
  {
   "cell_type": "code",
   "execution_count": null,
   "id": "38c6ab14-22fe-40ae-bc3d-6792f09d7ec8",
   "metadata": {
    "id": "38c6ab14-22fe-40ae-bc3d-6792f09d7ec8",
    "outputId": "12df6b47-cb09-4ed0-9cdd-7713e2d7f6ad"
   },
   "outputs": [
    {
     "data": {
      "text/html": [
       "<div>\n",
       "<style scoped>\n",
       "    .dataframe tbody tr th:only-of-type {\n",
       "        vertical-align: middle;\n",
       "    }\n",
       "\n",
       "    .dataframe tbody tr th {\n",
       "        vertical-align: top;\n",
       "    }\n",
       "\n",
       "    .dataframe thead th {\n",
       "        text-align: right;\n",
       "    }\n",
       "</style>\n",
       "<table border=\"1\" class=\"dataframe\">\n",
       "  <thead>\n",
       "    <tr style=\"text-align: right;\">\n",
       "      <th></th>\n",
       "      <th>Row ID</th>\n",
       "      <th>Order ID</th>\n",
       "      <th>Order Date</th>\n",
       "      <th>Ship Date</th>\n",
       "      <th>Ship Mode</th>\n",
       "      <th>Customer ID</th>\n",
       "      <th>Customer Name</th>\n",
       "      <th>Segment</th>\n",
       "      <th>Country</th>\n",
       "      <th>City</th>\n",
       "      <th>...</th>\n",
       "      <th>Postal Code</th>\n",
       "      <th>Region</th>\n",
       "      <th>Product ID</th>\n",
       "      <th>Category</th>\n",
       "      <th>Sub-Category</th>\n",
       "      <th>Product Name</th>\n",
       "      <th>Sales</th>\n",
       "      <th>Quantity</th>\n",
       "      <th>Discount</th>\n",
       "      <th>Profit</th>\n",
       "    </tr>\n",
       "  </thead>\n",
       "  <tbody>\n",
       "    <tr>\n",
       "      <th>0</th>\n",
       "      <td>1</td>\n",
       "      <td>CA-2016-152156</td>\n",
       "      <td>2016-11-08</td>\n",
       "      <td>2016-11-11</td>\n",
       "      <td>Second Class</td>\n",
       "      <td>CG-12520</td>\n",
       "      <td>Claire Gute</td>\n",
       "      <td>Consumer</td>\n",
       "      <td>United States</td>\n",
       "      <td>Henderson</td>\n",
       "      <td>...</td>\n",
       "      <td>42420</td>\n",
       "      <td>South</td>\n",
       "      <td>FUR-BO-10001798</td>\n",
       "      <td>Furniture</td>\n",
       "      <td>Bookcases</td>\n",
       "      <td>Bush Somerset Collection Bookcase</td>\n",
       "      <td>261.9600</td>\n",
       "      <td>2</td>\n",
       "      <td>0.00</td>\n",
       "      <td>41.9136</td>\n",
       "    </tr>\n",
       "    <tr>\n",
       "      <th>1</th>\n",
       "      <td>2</td>\n",
       "      <td>CA-2016-152156</td>\n",
       "      <td>2016-11-08</td>\n",
       "      <td>2016-11-11</td>\n",
       "      <td>Second Class</td>\n",
       "      <td>CG-12520</td>\n",
       "      <td>Claire Gute</td>\n",
       "      <td>Consumer</td>\n",
       "      <td>United States</td>\n",
       "      <td>Henderson</td>\n",
       "      <td>...</td>\n",
       "      <td>42420</td>\n",
       "      <td>South</td>\n",
       "      <td>FUR-CH-10000454</td>\n",
       "      <td>Furniture</td>\n",
       "      <td>Chairs</td>\n",
       "      <td>Hon Deluxe Fabric Upholstered Stacking Chairs,...</td>\n",
       "      <td>731.9400</td>\n",
       "      <td>3</td>\n",
       "      <td>0.00</td>\n",
       "      <td>219.5820</td>\n",
       "    </tr>\n",
       "    <tr>\n",
       "      <th>2</th>\n",
       "      <td>3</td>\n",
       "      <td>CA-2016-138688</td>\n",
       "      <td>2016-06-12</td>\n",
       "      <td>2016-06-16</td>\n",
       "      <td>Second Class</td>\n",
       "      <td>DV-13045</td>\n",
       "      <td>Darrin Van Huff</td>\n",
       "      <td>Corporate</td>\n",
       "      <td>United States</td>\n",
       "      <td>Los Angeles</td>\n",
       "      <td>...</td>\n",
       "      <td>90036</td>\n",
       "      <td>West</td>\n",
       "      <td>OFF-LA-10000240</td>\n",
       "      <td>Office Supplies</td>\n",
       "      <td>Labels</td>\n",
       "      <td>Self-Adhesive Address Labels for Typewriters b...</td>\n",
       "      <td>14.6200</td>\n",
       "      <td>2</td>\n",
       "      <td>0.00</td>\n",
       "      <td>6.8714</td>\n",
       "    </tr>\n",
       "    <tr>\n",
       "      <th>3</th>\n",
       "      <td>4</td>\n",
       "      <td>US-2015-108966</td>\n",
       "      <td>2015-10-11</td>\n",
       "      <td>2015-10-18</td>\n",
       "      <td>Standard Class</td>\n",
       "      <td>SO-20335</td>\n",
       "      <td>Sean O'Donnell</td>\n",
       "      <td>Consumer</td>\n",
       "      <td>United States</td>\n",
       "      <td>Fort Lauderdale</td>\n",
       "      <td>...</td>\n",
       "      <td>33311</td>\n",
       "      <td>South</td>\n",
       "      <td>FUR-TA-10000577</td>\n",
       "      <td>Furniture</td>\n",
       "      <td>Tables</td>\n",
       "      <td>Bretford CR4500 Series Slim Rectangular Table</td>\n",
       "      <td>957.5775</td>\n",
       "      <td>5</td>\n",
       "      <td>0.45</td>\n",
       "      <td>-383.0310</td>\n",
       "    </tr>\n",
       "    <tr>\n",
       "      <th>4</th>\n",
       "      <td>5</td>\n",
       "      <td>US-2015-108966</td>\n",
       "      <td>2015-10-11</td>\n",
       "      <td>2015-10-18</td>\n",
       "      <td>Standard Class</td>\n",
       "      <td>SO-20335</td>\n",
       "      <td>Sean O'Donnell</td>\n",
       "      <td>Consumer</td>\n",
       "      <td>United States</td>\n",
       "      <td>Fort Lauderdale</td>\n",
       "      <td>...</td>\n",
       "      <td>33311</td>\n",
       "      <td>South</td>\n",
       "      <td>OFF-ST-10000760</td>\n",
       "      <td>Office Supplies</td>\n",
       "      <td>Storage</td>\n",
       "      <td>Eldon Fold 'N Roll Cart System</td>\n",
       "      <td>22.3680</td>\n",
       "      <td>2</td>\n",
       "      <td>0.20</td>\n",
       "      <td>2.5164</td>\n",
       "    </tr>\n",
       "  </tbody>\n",
       "</table>\n",
       "<p>5 rows × 21 columns</p>\n",
       "</div>"
      ],
      "text/plain": [
       "   Row ID        Order ID Order Date  Ship Date       Ship Mode Customer ID  \\\n",
       "0       1  CA-2016-152156 2016-11-08 2016-11-11    Second Class    CG-12520   \n",
       "1       2  CA-2016-152156 2016-11-08 2016-11-11    Second Class    CG-12520   \n",
       "2       3  CA-2016-138688 2016-06-12 2016-06-16    Second Class    DV-13045   \n",
       "3       4  US-2015-108966 2015-10-11 2015-10-18  Standard Class    SO-20335   \n",
       "4       5  US-2015-108966 2015-10-11 2015-10-18  Standard Class    SO-20335   \n",
       "\n",
       "     Customer Name    Segment        Country             City  ...  \\\n",
       "0      Claire Gute   Consumer  United States        Henderson  ...   \n",
       "1      Claire Gute   Consumer  United States        Henderson  ...   \n",
       "2  Darrin Van Huff  Corporate  United States      Los Angeles  ...   \n",
       "3   Sean O'Donnell   Consumer  United States  Fort Lauderdale  ...   \n",
       "4   Sean O'Donnell   Consumer  United States  Fort Lauderdale  ...   \n",
       "\n",
       "  Postal Code  Region       Product ID         Category Sub-Category  \\\n",
       "0       42420   South  FUR-BO-10001798        Furniture    Bookcases   \n",
       "1       42420   South  FUR-CH-10000454        Furniture       Chairs   \n",
       "2       90036    West  OFF-LA-10000240  Office Supplies       Labels   \n",
       "3       33311   South  FUR-TA-10000577        Furniture       Tables   \n",
       "4       33311   South  OFF-ST-10000760  Office Supplies      Storage   \n",
       "\n",
       "                                        Product Name     Sales  Quantity  \\\n",
       "0                  Bush Somerset Collection Bookcase  261.9600         2   \n",
       "1  Hon Deluxe Fabric Upholstered Stacking Chairs,...  731.9400         3   \n",
       "2  Self-Adhesive Address Labels for Typewriters b...   14.6200         2   \n",
       "3      Bretford CR4500 Series Slim Rectangular Table  957.5775         5   \n",
       "4                     Eldon Fold 'N Roll Cart System   22.3680         2   \n",
       "\n",
       "   Discount    Profit  \n",
       "0      0.00   41.9136  \n",
       "1      0.00  219.5820  \n",
       "2      0.00    6.8714  \n",
       "3      0.45 -383.0310  \n",
       "4      0.20    2.5164  \n",
       "\n",
       "[5 rows x 21 columns]"
      ]
     },
     "execution_count": 17,
     "metadata": {},
     "output_type": "execute_result"
    }
   ],
   "source": [
    "orders.head()"
   ]
  },
  {
   "cell_type": "code",
   "execution_count": null,
   "id": "63262b0a-b374-4b54-948d-ddc16aa67b64",
   "metadata": {
    "id": "63262b0a-b374-4b54-948d-ddc16aa67b64",
    "outputId": "f9787445-1647-4dcb-bd54-9726be5de5ab"
   },
   "outputs": [
    {
     "data": {
      "text/html": [
       "<div>\n",
       "<style scoped>\n",
       "    .dataframe tbody tr th:only-of-type {\n",
       "        vertical-align: middle;\n",
       "    }\n",
       "\n",
       "    .dataframe tbody tr th {\n",
       "        vertical-align: top;\n",
       "    }\n",
       "\n",
       "    .dataframe thead th {\n",
       "        text-align: right;\n",
       "    }\n",
       "</style>\n",
       "<table border=\"1\" class=\"dataframe\">\n",
       "  <thead>\n",
       "    <tr style=\"text-align: right;\">\n",
       "      <th></th>\n",
       "      <th>Returned</th>\n",
       "      <th>Order ID</th>\n",
       "    </tr>\n",
       "  </thead>\n",
       "  <tbody>\n",
       "    <tr>\n",
       "      <th>0</th>\n",
       "      <td>Yes</td>\n",
       "      <td>CA-2017-153822</td>\n",
       "    </tr>\n",
       "    <tr>\n",
       "      <th>1</th>\n",
       "      <td>Yes</td>\n",
       "      <td>CA-2017-129707</td>\n",
       "    </tr>\n",
       "    <tr>\n",
       "      <th>2</th>\n",
       "      <td>Yes</td>\n",
       "      <td>CA-2014-152345</td>\n",
       "    </tr>\n",
       "    <tr>\n",
       "      <th>3</th>\n",
       "      <td>Yes</td>\n",
       "      <td>CA-2015-156440</td>\n",
       "    </tr>\n",
       "    <tr>\n",
       "      <th>4</th>\n",
       "      <td>Yes</td>\n",
       "      <td>US-2017-155999</td>\n",
       "    </tr>\n",
       "  </tbody>\n",
       "</table>\n",
       "</div>"
      ],
      "text/plain": [
       "  Returned        Order ID\n",
       "0      Yes  CA-2017-153822\n",
       "1      Yes  CA-2017-129707\n",
       "2      Yes  CA-2014-152345\n",
       "3      Yes  CA-2015-156440\n",
       "4      Yes  US-2017-155999"
      ]
     },
     "execution_count": 18,
     "metadata": {},
     "output_type": "execute_result"
    }
   ],
   "source": [
    "returns.head()"
   ]
  },
  {
   "cell_type": "code",
   "execution_count": null,
   "id": "3d310eba-6c81-4256-8a71-9f03bae564fc",
   "metadata": {
    "id": "3d310eba-6c81-4256-8a71-9f03bae564fc",
    "outputId": "b6b27447-2090-4937-b533-4f65342f1247"
   },
   "outputs": [
    {
     "data": {
      "text/html": [
       "<div>\n",
       "<style scoped>\n",
       "    .dataframe tbody tr th:only-of-type {\n",
       "        vertical-align: middle;\n",
       "    }\n",
       "\n",
       "    .dataframe tbody tr th {\n",
       "        vertical-align: top;\n",
       "    }\n",
       "\n",
       "    .dataframe thead th {\n",
       "        text-align: right;\n",
       "    }\n",
       "</style>\n",
       "<table border=\"1\" class=\"dataframe\">\n",
       "  <thead>\n",
       "    <tr style=\"text-align: right;\">\n",
       "      <th></th>\n",
       "      <th>Person</th>\n",
       "      <th>Region</th>\n",
       "    </tr>\n",
       "  </thead>\n",
       "  <tbody>\n",
       "    <tr>\n",
       "      <th>0</th>\n",
       "      <td>Anna Andreadi</td>\n",
       "      <td>West</td>\n",
       "    </tr>\n",
       "    <tr>\n",
       "      <th>1</th>\n",
       "      <td>Chuck Magee</td>\n",
       "      <td>East</td>\n",
       "    </tr>\n",
       "    <tr>\n",
       "      <th>2</th>\n",
       "      <td>Kelly Williams</td>\n",
       "      <td>Central</td>\n",
       "    </tr>\n",
       "    <tr>\n",
       "      <th>3</th>\n",
       "      <td>Cassandra Brandow</td>\n",
       "      <td>South</td>\n",
       "    </tr>\n",
       "  </tbody>\n",
       "</table>\n",
       "</div>"
      ],
      "text/plain": [
       "              Person   Region\n",
       "0      Anna Andreadi     West\n",
       "1        Chuck Magee     East\n",
       "2     Kelly Williams  Central\n",
       "3  Cassandra Brandow    South"
      ]
     },
     "execution_count": 19,
     "metadata": {},
     "output_type": "execute_result"
    }
   ],
   "source": [
    "people.head()"
   ]
  },
  {
   "cell_type": "markdown",
   "id": "b6679d60-0e2c-4867-bd39-c7fa7fc41e9f",
   "metadata": {
    "id": "b6679d60-0e2c-4867-bd39-c7fa7fc41e9f"
   },
   "source": [
    "### 2. Merge / Integrasi Data"
   ]
  },
  {
   "cell_type": "markdown",
   "id": "ed33e136-c69a-479e-ae81-c0c6ab783ad3",
   "metadata": {
    "id": "ed33e136-c69a-479e-ae81-c0c6ab783ad3"
   },
   "source": [
    "Setelah kita melihat Dataset diatas, kita akan melihat bahwa tabel pesanan/orders berbagi bidang yang sama dengan tabel pengembalian/returns (Order ID) dan orang/people (Region). Hubungan ini berarti bahwa kita dapat mengintegrasikan tiga sumber data menjadi satu tabel \"master\" menggunakan merging.\n",
    "\n",
    "Pandas dapat melakukan integrasi data menjadi sangat sederhana melalui function _merge()_. Hal ini memungkinkan kita untuk menggabungkan dua tabel/data menggunakan dua atau lebih kolom dan menentukan jenis gabungan (dalam/inner, kiri/left, kanan/right, luar/outer) yang ingin kita gunakan."
   ]
  },
  {
   "cell_type": "code",
   "execution_count": null,
   "id": "0fafeceb-a7c0-45b0-a5e5-ccc7a8c6a6e0",
   "metadata": {
    "id": "0fafeceb-a7c0-45b0-a5e5-ccc7a8c6a6e0"
   },
   "outputs": [],
   "source": [
    "merged_df = (orders.merge(returns, how='left', on='Order ID')\n",
    "            .merge(people, on='Region'))"
   ]
  },
  {
   "cell_type": "code",
   "execution_count": null,
   "id": "d3eef87e-459a-4592-ae94-cd02ca969dac",
   "metadata": {
    "id": "d3eef87e-459a-4592-ae94-cd02ca969dac",
    "outputId": "e926c520-2532-4245-dc93-b0b51f79768f"
   },
   "outputs": [
    {
     "data": {
      "text/html": [
       "<div>\n",
       "<style scoped>\n",
       "    .dataframe tbody tr th:only-of-type {\n",
       "        vertical-align: middle;\n",
       "    }\n",
       "\n",
       "    .dataframe tbody tr th {\n",
       "        vertical-align: top;\n",
       "    }\n",
       "\n",
       "    .dataframe thead th {\n",
       "        text-align: right;\n",
       "    }\n",
       "</style>\n",
       "<table border=\"1\" class=\"dataframe\">\n",
       "  <thead>\n",
       "    <tr style=\"text-align: right;\">\n",
       "      <th></th>\n",
       "      <th>Row ID</th>\n",
       "      <th>Order ID</th>\n",
       "      <th>Order Date</th>\n",
       "      <th>Ship Date</th>\n",
       "      <th>Ship Mode</th>\n",
       "      <th>Customer ID</th>\n",
       "      <th>Customer Name</th>\n",
       "      <th>Segment</th>\n",
       "      <th>Country</th>\n",
       "      <th>City</th>\n",
       "      <th>...</th>\n",
       "      <th>Product ID</th>\n",
       "      <th>Category</th>\n",
       "      <th>Sub-Category</th>\n",
       "      <th>Product Name</th>\n",
       "      <th>Sales</th>\n",
       "      <th>Quantity</th>\n",
       "      <th>Discount</th>\n",
       "      <th>Profit</th>\n",
       "      <th>Returned</th>\n",
       "      <th>Person</th>\n",
       "    </tr>\n",
       "  </thead>\n",
       "  <tbody>\n",
       "    <tr>\n",
       "      <th>0</th>\n",
       "      <td>1</td>\n",
       "      <td>CA-2016-152156</td>\n",
       "      <td>2016-11-08</td>\n",
       "      <td>2016-11-11</td>\n",
       "      <td>Second Class</td>\n",
       "      <td>CG-12520</td>\n",
       "      <td>Claire Gute</td>\n",
       "      <td>Consumer</td>\n",
       "      <td>United States</td>\n",
       "      <td>Henderson</td>\n",
       "      <td>...</td>\n",
       "      <td>FUR-BO-10001798</td>\n",
       "      <td>Furniture</td>\n",
       "      <td>Bookcases</td>\n",
       "      <td>Bush Somerset Collection Bookcase</td>\n",
       "      <td>261.9600</td>\n",
       "      <td>2</td>\n",
       "      <td>0.00</td>\n",
       "      <td>41.9136</td>\n",
       "      <td>NaN</td>\n",
       "      <td>Cassandra Brandow</td>\n",
       "    </tr>\n",
       "    <tr>\n",
       "      <th>1</th>\n",
       "      <td>2</td>\n",
       "      <td>CA-2016-152156</td>\n",
       "      <td>2016-11-08</td>\n",
       "      <td>2016-11-11</td>\n",
       "      <td>Second Class</td>\n",
       "      <td>CG-12520</td>\n",
       "      <td>Claire Gute</td>\n",
       "      <td>Consumer</td>\n",
       "      <td>United States</td>\n",
       "      <td>Henderson</td>\n",
       "      <td>...</td>\n",
       "      <td>FUR-CH-10000454</td>\n",
       "      <td>Furniture</td>\n",
       "      <td>Chairs</td>\n",
       "      <td>Hon Deluxe Fabric Upholstered Stacking Chairs,...</td>\n",
       "      <td>731.9400</td>\n",
       "      <td>3</td>\n",
       "      <td>0.00</td>\n",
       "      <td>219.5820</td>\n",
       "      <td>NaN</td>\n",
       "      <td>Cassandra Brandow</td>\n",
       "    </tr>\n",
       "    <tr>\n",
       "      <th>2</th>\n",
       "      <td>4</td>\n",
       "      <td>US-2015-108966</td>\n",
       "      <td>2015-10-11</td>\n",
       "      <td>2015-10-18</td>\n",
       "      <td>Standard Class</td>\n",
       "      <td>SO-20335</td>\n",
       "      <td>Sean O'Donnell</td>\n",
       "      <td>Consumer</td>\n",
       "      <td>United States</td>\n",
       "      <td>Fort Lauderdale</td>\n",
       "      <td>...</td>\n",
       "      <td>FUR-TA-10000577</td>\n",
       "      <td>Furniture</td>\n",
       "      <td>Tables</td>\n",
       "      <td>Bretford CR4500 Series Slim Rectangular Table</td>\n",
       "      <td>957.5775</td>\n",
       "      <td>5</td>\n",
       "      <td>0.45</td>\n",
       "      <td>-383.0310</td>\n",
       "      <td>NaN</td>\n",
       "      <td>Cassandra Brandow</td>\n",
       "    </tr>\n",
       "    <tr>\n",
       "      <th>3</th>\n",
       "      <td>5</td>\n",
       "      <td>US-2015-108966</td>\n",
       "      <td>2015-10-11</td>\n",
       "      <td>2015-10-18</td>\n",
       "      <td>Standard Class</td>\n",
       "      <td>SO-20335</td>\n",
       "      <td>Sean O'Donnell</td>\n",
       "      <td>Consumer</td>\n",
       "      <td>United States</td>\n",
       "      <td>Fort Lauderdale</td>\n",
       "      <td>...</td>\n",
       "      <td>OFF-ST-10000760</td>\n",
       "      <td>Office Supplies</td>\n",
       "      <td>Storage</td>\n",
       "      <td>Eldon Fold 'N Roll Cart System</td>\n",
       "      <td>22.3680</td>\n",
       "      <td>2</td>\n",
       "      <td>0.20</td>\n",
       "      <td>2.5164</td>\n",
       "      <td>NaN</td>\n",
       "      <td>Cassandra Brandow</td>\n",
       "    </tr>\n",
       "    <tr>\n",
       "      <th>4</th>\n",
       "      <td>13</td>\n",
       "      <td>CA-2017-114412</td>\n",
       "      <td>2017-04-15</td>\n",
       "      <td>2017-04-20</td>\n",
       "      <td>Standard Class</td>\n",
       "      <td>AA-10480</td>\n",
       "      <td>Andrew Allen</td>\n",
       "      <td>Consumer</td>\n",
       "      <td>United States</td>\n",
       "      <td>Concord</td>\n",
       "      <td>...</td>\n",
       "      <td>OFF-PA-10002365</td>\n",
       "      <td>Office Supplies</td>\n",
       "      <td>Paper</td>\n",
       "      <td>Xerox 1967</td>\n",
       "      <td>15.5520</td>\n",
       "      <td>3</td>\n",
       "      <td>0.20</td>\n",
       "      <td>5.4432</td>\n",
       "      <td>NaN</td>\n",
       "      <td>Cassandra Brandow</td>\n",
       "    </tr>\n",
       "  </tbody>\n",
       "</table>\n",
       "<p>5 rows × 23 columns</p>\n",
       "</div>"
      ],
      "text/plain": [
       "   Row ID        Order ID Order Date  Ship Date       Ship Mode Customer ID  \\\n",
       "0       1  CA-2016-152156 2016-11-08 2016-11-11    Second Class    CG-12520   \n",
       "1       2  CA-2016-152156 2016-11-08 2016-11-11    Second Class    CG-12520   \n",
       "2       4  US-2015-108966 2015-10-11 2015-10-18  Standard Class    SO-20335   \n",
       "3       5  US-2015-108966 2015-10-11 2015-10-18  Standard Class    SO-20335   \n",
       "4      13  CA-2017-114412 2017-04-15 2017-04-20  Standard Class    AA-10480   \n",
       "\n",
       "    Customer Name   Segment        Country             City  ...  \\\n",
       "0     Claire Gute  Consumer  United States        Henderson  ...   \n",
       "1     Claire Gute  Consumer  United States        Henderson  ...   \n",
       "2  Sean O'Donnell  Consumer  United States  Fort Lauderdale  ...   \n",
       "3  Sean O'Donnell  Consumer  United States  Fort Lauderdale  ...   \n",
       "4    Andrew Allen  Consumer  United States          Concord  ...   \n",
       "\n",
       "        Product ID         Category Sub-Category  \\\n",
       "0  FUR-BO-10001798        Furniture    Bookcases   \n",
       "1  FUR-CH-10000454        Furniture       Chairs   \n",
       "2  FUR-TA-10000577        Furniture       Tables   \n",
       "3  OFF-ST-10000760  Office Supplies      Storage   \n",
       "4  OFF-PA-10002365  Office Supplies        Paper   \n",
       "\n",
       "                                        Product Name     Sales Quantity  \\\n",
       "0                  Bush Somerset Collection Bookcase  261.9600        2   \n",
       "1  Hon Deluxe Fabric Upholstered Stacking Chairs,...  731.9400        3   \n",
       "2      Bretford CR4500 Series Slim Rectangular Table  957.5775        5   \n",
       "3                     Eldon Fold 'N Roll Cart System   22.3680        2   \n",
       "4                                         Xerox 1967   15.5520        3   \n",
       "\n",
       "  Discount    Profit  Returned             Person  \n",
       "0     0.00   41.9136       NaN  Cassandra Brandow  \n",
       "1     0.00  219.5820       NaN  Cassandra Brandow  \n",
       "2     0.45 -383.0310       NaN  Cassandra Brandow  \n",
       "3     0.20    2.5164       NaN  Cassandra Brandow  \n",
       "4     0.20    5.4432       NaN  Cassandra Brandow  \n",
       "\n",
       "[5 rows x 23 columns]"
      ]
     },
     "execution_count": 26,
     "metadata": {},
     "output_type": "execute_result"
    }
   ],
   "source": [
    "merged_df.head()"
   ]
  },
  {
   "cell_type": "markdown",
   "id": "2c6a2bec-1dba-4460-9bf3-7af5bd431741",
   "metadata": {
    "id": "2c6a2bec-1dba-4460-9bf3-7af5bd431741"
   },
   "source": [
    "Kode di atas menunjukkan bagaimana akan mengintegrasikan tiga sumber data kita menjadi satu tabel master \"merged_df\". Beberapa poin penting yang perlu diperhatikan :"
   ]
  },
  {
   "cell_type": "markdown",
   "id": "3a169267-4dbf-48fd-ba6f-82a653d10bc4",
   "metadata": {
    "id": "3a169267-4dbf-48fd-ba6f-82a653d10bc4"
   },
   "source": [
    "1. Dataset yang diterapkan metode _.merge()_ (orders dalam kasus ini) dianggap sebagai tabel kiri dalam gabungan sementara dataset di dalam tanda kurung (returns dan people dalam kasus ini) dianggap sebagai yang benar.\n",
    "\n",
    "2. Kita dapat melakukan kedua gabungan dalam satu baris hanya dengan merantaikan .merge()operasi bersama-sama.\n",
    "\n",
    "3. Secara default, metode penggabungan membentuk gabungan dalam. Namun karena tabel returns hanya berisi informasi tentang pesanan yang dikembalikan, gabungan bagian dalam di sini berarti bahwa kita akan kehilangan semua pesanan yang tidak dikembalikan dari dataset pesanan/orders. Sebagai hasilnya, kita harus menentukan untuk menggunakan gabungan kiri/left. Karena kita tahu bahwa semua wilayah dalam dataset pesanan/orders muncul di dataset people. Berikut penjelasan secara visual :"
   ]
  },
  {
   "cell_type": "markdown",
   "id": "84333c00-8c8c-483e-9c65-3e69bc949b80",
   "metadata": {
    "id": "84333c00-8c8c-483e-9c65-3e69bc949b80"
   },
   "source": [
    "\n",
    "<center>\n",
    "    <img src=\"https://paulminogue.com/images/a4d80b5-26da-4dff-8e3d-b888102e68a2_image_4.png\" width=\"1000\"/>\n",
    "</center>"
   ]
  },
  {
   "cell_type": "markdown",
   "id": "4dcddd99-2572-43b9-a8df-9c35aa153b73",
   "metadata": {
    "id": "4dcddd99-2572-43b9-a8df-9c35aa153b73"
   },
   "source": [
    "### Latihan 3 : \n",
    "Cetak kolom 'City' pada dataset merged_df"
   ]
  },
  {
   "cell_type": "code",
   "execution_count": null,
   "id": "48944fdd-2562-456a-ae2b-df5c4b327fc2",
   "metadata": {
    "id": "48944fdd-2562-456a-ae2b-df5c4b327fc2",
    "tags": []
   },
   "outputs": [],
   "source": [
    "# Jawab disini"
   ]
  },
  {
   "cell_type": "markdown",
   "id": "3bb86b0c-f4c2-4890-81cf-eac15132eafc",
   "metadata": {
    "id": "3bb86b0c-f4c2-4890-81cf-eac15132eafc"
   },
   "source": [
    "### Latihan 4 : \n",
    "Cetak multiple kolom, yaitu kolom 'Customer Name', 'Segment', 'Country'."
   ]
  },
  {
   "cell_type": "code",
   "execution_count": null,
   "id": "0c22f79e-52eb-43ee-b26d-598cbaebf99b",
   "metadata": {
    "id": "0c22f79e-52eb-43ee-b26d-598cbaebf99b",
    "tags": []
   },
   "outputs": [],
   "source": [
    "# Jawab disini"
   ]
  },
  {
   "cell_type": "markdown",
   "id": "1d6ee46c-5f6a-42f5-9627-a5e524b2b93d",
   "metadata": {
    "id": "1d6ee46c-5f6a-42f5-9627-a5e524b2b93d"
   },
   "source": [
    "### Latihan 5 : \n",
    "Cetak nilai rata-rata dari kolom 'Sales' pada dataset merged_df, menggunakan function _mean()_"
   ]
  },
  {
   "cell_type": "code",
   "execution_count": null,
   "id": "8b519223-a5f3-438c-be14-5d749a164b8a",
   "metadata": {
    "id": "8b519223-a5f3-438c-be14-5d749a164b8a",
    "tags": []
   },
   "outputs": [],
   "source": [
    "# Jawab disini"
   ]
  },
  {
   "cell_type": "markdown",
   "id": "4256ac23-99b9-41f7-b573-8504782d577b",
   "metadata": {
    "id": "4256ac23-99b9-41f7-b573-8504782d577b"
   },
   "source": [
    "# Pengambilan Data dari API Kaggle\n",
    "---\n",
    "Salah satu portal yang menyediakan dataset untuk project Data Science adalah Kaggle (https://www.kaggle.com/).\n",
    "Pada latihan ini, silakan peserta mengunduh dataset mengenai bunga Iris dengan menggunakan kata kunci: \"iris species\" yang disediakan oleh UCI Machine Learning (UCIML) "
   ]
  },
  {
   "cell_type": "markdown",
   "id": "b83638dc-cb51-4612-9897-c773566cd417",
   "metadata": {
    "id": "b83638dc-cb51-4612-9897-c773566cd417"
   },
   "source": [
    "**1. Install Modul kaggle:**"
   ]
  },
  {
   "cell_type": "code",
   "execution_count": null,
   "id": "c465ef7e-548a-4ae7-a933-3b91f0661b94",
   "metadata": {
    "id": "c465ef7e-548a-4ae7-a933-3b91f0661b94",
    "outputId": "b1a5681e-dbcb-479b-d41a-7a22033b8914"
   },
   "outputs": [
    {
     "name": "stdout",
     "output_type": "stream",
     "text": [
      "Requirement already satisfied: kaggle in c:\\users\\user\\anaconda3\\lib\\site-packages (1.5.12)\n",
      "Requirement already satisfied: certifi in c:\\users\\user\\anaconda3\\lib\\site-packages (from kaggle) (2020.12.5)\n",
      "Requirement already satisfied: urllib3 in c:\\users\\user\\anaconda3\\lib\\site-packages (from kaggle) (1.26.4)\n",
      "Requirement already satisfied: tqdm in c:\\users\\user\\anaconda3\\lib\\site-packages (from kaggle) (4.59.0)\n",
      "Requirement already satisfied: python-slugify in c:\\users\\user\\anaconda3\\lib\\site-packages (from kaggle) (5.0.2)\n",
      "Requirement already satisfied: six>=1.10 in c:\\users\\user\\anaconda3\\lib\\site-packages (from kaggle) (1.15.0)\n",
      "Requirement already satisfied: requests in c:\\users\\user\\anaconda3\\lib\\site-packages (from kaggle) (2.25.1)\n",
      "Requirement already satisfied: python-dateutil in c:\\users\\user\\anaconda3\\lib\\site-packages (from kaggle) (2.8.1)\n",
      "Requirement already satisfied: text-unidecode>=1.3 in c:\\users\\user\\anaconda3\\lib\\site-packages (from python-slugify->kaggle) (1.3)\n",
      "Requirement already satisfied: idna<3,>=2.5 in c:\\users\\user\\anaconda3\\lib\\site-packages (from requests->kaggle) (2.10)\n",
      "Requirement already satisfied: chardet<5,>=3.0.2 in c:\\users\\user\\anaconda3\\lib\\site-packages (from requests->kaggle) (4.0.0)\n"
     ]
    }
   ],
   "source": [
    "# Install modul kaggle secara inline (di dalam notebook)\n",
    "!pip install kaggle"
   ]
  },
  {
   "cell_type": "markdown",
   "id": "f1bd8523-b54a-4dfa-b3a3-d61fb20a98f2",
   "metadata": {
    "id": "f1bd8523-b54a-4dfa-b3a3-d61fb20a98f2"
   },
   "source": [
    "Install modul kaggle secara eksternal melalui anaconda prompt:"
   ]
  },
  {
   "cell_type": "markdown",
   "id": "5e06a5a2-6a3a-4cf8-8d8b-d55cb80d7f28",
   "metadata": {
    "id": "5e06a5a2-6a3a-4cf8-8d8b-d55cb80d7f28"
   },
   "source": [
    "<center>\n",
    "<img src=\"https://drive.google.com/uc?export=view&id=1GazgsCpeUthpdVzZVcNWgLlncWBGSKo4\"/>\n",
    "</center>"
   ]
  },
  {
   "cell_type": "markdown",
   "id": "24ac8d54-e722-4dd6-8ab6-729a41d9e3d8",
   "metadata": {
    "id": "24ac8d54-e722-4dd6-8ab6-729a41d9e3d8"
   },
   "source": [
    "**2. Create Token API kaggle:**"
   ]
  },
  {
   "cell_type": "markdown",
   "id": "89efdfcb-179e-4a1d-931d-fd39572d1d97",
   "metadata": {
    "id": "89efdfcb-179e-4a1d-931d-fd39572d1d97"
   },
   "source": [
    "<center>\n",
    "  <img src=\"https://drive.google.com/uc?export=view&id=1s0FYBkutrwS8Llgrv2U0IMGTboCyOJBA\"\n",
    "</center>"
   ]
  },
  {
   "cell_type": "markdown",
   "id": "93653bd3-15f0-4400-a217-11a45d713939",
   "metadata": {
    "id": "93653bd3-15f0-4400-a217-11a45d713939"
   },
   "source": [
    "1. Login Kaggle.com \n",
    "2. Kemudian pada menu Profile --> Account\n",
    "3. Klik Create New Api Token \n",
    "4. Maka akan terdownload file kaggle.json"
   ]
  },
  {
   "cell_type": "markdown",
   "id": "b42a9998-eba4-40af-b4b0-916da071408e",
   "metadata": {
    "id": "b42a9998-eba4-40af-b4b0-916da071408e"
   },
   "source": [
    "<center>\n",
    "<img src=\"https://drive.google.com/uc?export=view&id=1T0tri2wUfwRdeJb0a766QMezVf7neY8L\"/>\n",
    "</center>"
   ]
  },
  {
   "cell_type": "markdown",
   "id": "159620d9-856d-433b-a002-f235aa9b7041",
   "metadata": {
    "id": "159620d9-856d-433b-a002-f235aa9b7041"
   },
   "source": [
    "Kaggle API secara default mengasumsikan bahwa file kaggle.json tersebut berada di dalam folder: \n",
    "* ~/.kaggle/ (Linux/Mac)  \n",
    "* C:\\Users\\<Windows-username>\\.kaggle\\ (Windows)\n",
    "\n",
    "Jika folder tersebut belum ada:\n",
    "1. Buat folder di direktori C:\\Users\\<Windows-username>\\.kaggle\\\n",
    "2. letakkan file kaggle.json kedalam folder tersebut"
   ]
  },
  {
   "cell_type": "markdown",
   "id": "3e905543-033e-4fb4-a435-031d1961565e",
   "metadata": {
    "id": "3e905543-033e-4fb4-a435-031d1961565e"
   },
   "source": [
    "**3. Download Dataset dari Kaggle:**"
   ]
  },
  {
   "cell_type": "markdown",
   "id": "2f97a887-95a1-4ca5-ac41-694216b1dcfc",
   "metadata": {
    "id": "2f97a887-95a1-4ca5-ac41-694216b1dcfc"
   },
   "source": [
    "<center>\n",
    "<img src=\"https://drive.google.com/uc?export=view&id=11XZkQjk1_lZ_ZLncbJiLE81oDWn9nUNp\"/>\n",
    "</center>\n",
    "\n",
    "\n",
    "\n",
    "\n",
    "\n",
    "<div class=\"text-center\">\n",
    "    Dokumentasi Kaggle Commands selengkapnya <a href=\"https://github.com/Kaggle/kaggle-api#datasets\">Disini</a>\n",
    "</div>"
   ]
  },
  {
   "cell_type": "code",
   "execution_count": null,
   "id": "302c6284-e556-4e85-a6ec-72bbc6018ecc",
   "metadata": {
    "id": "302c6284-e556-4e85-a6ec-72bbc6018ecc",
    "outputId": "ba4b1452-55bf-435e-b989-159ea23f0dad"
   },
   "outputs": [
    {
     "name": "stdout",
     "output_type": "stream",
     "text": [
      "ref                                                     title                                           size  lastUpdated          downloadCount  voteCount  usabilityRating  \n",
      "------------------------------------------------------  ---------------------------------------------  -----  -------------------  -------------  ---------  ---------------  \n",
      "uciml/iris                                              Iris Species                                     4KB  2016-09-27 07:38:05         223702       2661  0.7941176        \n",
      "arshid/iris-flower-dataset                              Iris Flower Dataset                            1010B  2018-03-22 15:18:06          40271        367  0.8235294        \n",
      "vikrishnan/iris-dataset                                 Iris Dataset                                    999B  2017-08-03 16:00:44           2889         26  0.7647059        \n",
      "therohk/ireland-historical-news                         Irish Times - Waxy-Wany News                    52MB  2021-09-25 10:52:48           2977        157  1.0              \n",
      "chuckyin/iris-datasets                                  Iris datasets                                    1KB  2017-03-10 09:35:43           1756         14  0.7352941        \n",
      "rtatman/iris-dataset-json-version                       Iris Dataset (JSON Version)                      1KB  2018-04-06 20:21:31           5605         43  0.75             \n",
      "parulpandey/palmer-archipelago-antarctica-penguin-data  Palmer Archipelago (Antarctica) penguin data    11KB  2020-06-09 10:14:54           9850        114  0.9705882        \n",
      "conorrot/irish-weather-hourly-data                      Irish Weather (hourly data)                     67MB  2020-06-29 20:15:18           1852         40  0.8235294        \n",
      "saurabh00007/iriscsv                                    Iris.csv                                         1KB  2017-11-09 07:34:35          16998         57  0.4117647        \n",
      "fleanend/birds-songs-numeric-dataset                    Birds' Songs Numeric Dataset                    25MB  2019-04-01 09:09:46            703         25  0.9411765        \n",
      "kamrankausar/iris-data                                  iris_data                                        1KB  2017-11-30 10:26:01           1101         13  0.64705884       \n",
      "jeffheaton/iris-computer-vision                         Iris Computer Vision                             5MB  2020-11-24 21:23:29            303          9  0.875            \n",
      "styven/iris-dataset                                     Iris dataset                                     1KB  2017-11-04 14:10:12            786          8  0.29411766       \n",
      "arslanali4343/iris-species                              Iris Species                                     2KB  2020-07-02 06:09:09             48         13  0.5625           \n",
      "olgabelitskaya/flower-color-images                      Flower Color Images                             50MB  2020-10-01 22:48:07           8333        161  0.75             \n",
      "naureenmohammad/mmu-iris-dataset                        MMU iris dataset                                30MB  2020-07-25 18:38:33            639         19  0.5625           \n",
      "rutujavaidya/iris-dataset                               Iris Dataset                                     1KB  2021-07-25 17:37:14             31          6  0.4117647        \n",
      "shantanuss/iris-flower-dataset                          IRIS flower dataset                              1KB  2020-01-18 19:43:18            190          3  0.9411765        \n",
      "ashishs0ni/iris-dataset                                 Iris_dataset                                     1KB  2018-08-05 14:26:19            584          7  0.64705884       \n",
      "jodx666/iris-is                                         IRIS is                                         981B  2018-02-16 09:11:35            339          6  0.3125           \n"
     ]
    }
   ],
   "source": [
    "# Mencari dataset yang tersedia di kaggle --> pilih dataset iris dengan provider dari UCIML\n",
    "!kaggle datasets list -s \"iris\""
   ]
  },
  {
   "cell_type": "code",
   "execution_count": null,
   "id": "c22fd01f-b2b3-47b0-9367-b51c1714576e",
   "metadata": {
    "id": "c22fd01f-b2b3-47b0-9367-b51c1714576e",
    "scrolled": true
   },
   "outputs": [],
   "source": [
    "# Download dan ekstrak dataset, secara default akan berada dalam satu direktori dengan notebook ini\n",
    "!kaggle datasets download uciml/iris --unzip "
   ]
  },
  {
   "cell_type": "markdown",
   "id": "420bb355-511b-4977-8db0-91a102f5993c",
   "metadata": {
    "id": "420bb355-511b-4977-8db0-91a102f5993c"
   },
   "source": [
    "## Memuat Data\n",
    "---"
   ]
  },
  {
   "cell_type": "code",
   "execution_count": null,
   "id": "8bf721cc-fc6b-4f95-8a6f-6d7ef2bfe7af",
   "metadata": {
    "id": "8bf721cc-fc6b-4f95-8a6f-6d7ef2bfe7af"
   },
   "outputs": [],
   "source": [
    "# load dataset\n",
    "dataset_kaggle = \"Iris.csv\"\n",
    "df3 = pd.read_csv(dataset_kaggle)"
   ]
  },
  {
   "cell_type": "code",
   "execution_count": null,
   "id": "0c5fcd73-efee-43fc-8635-b1b818937a1a",
   "metadata": {
    "id": "0c5fcd73-efee-43fc-8635-b1b818937a1a",
    "outputId": "c9327beb-d21e-4dc1-bff3-335db733ca4a"
   },
   "outputs": [
    {
     "data": {
      "text/html": [
       "<div>\n",
       "<style scoped>\n",
       "    .dataframe tbody tr th:only-of-type {\n",
       "        vertical-align: middle;\n",
       "    }\n",
       "\n",
       "    .dataframe tbody tr th {\n",
       "        vertical-align: top;\n",
       "    }\n",
       "\n",
       "    .dataframe thead th {\n",
       "        text-align: right;\n",
       "    }\n",
       "</style>\n",
       "<table border=\"1\" class=\"dataframe\">\n",
       "  <thead>\n",
       "    <tr style=\"text-align: right;\">\n",
       "      <th></th>\n",
       "      <th>Id</th>\n",
       "      <th>SepalLengthCm</th>\n",
       "      <th>SepalWidthCm</th>\n",
       "      <th>PetalLengthCm</th>\n",
       "      <th>PetalWidthCm</th>\n",
       "      <th>Species</th>\n",
       "    </tr>\n",
       "  </thead>\n",
       "  <tbody>\n",
       "    <tr>\n",
       "      <th>0</th>\n",
       "      <td>1</td>\n",
       "      <td>5.1</td>\n",
       "      <td>3.5</td>\n",
       "      <td>1.4</td>\n",
       "      <td>0.2</td>\n",
       "      <td>Iris-setosa</td>\n",
       "    </tr>\n",
       "    <tr>\n",
       "      <th>1</th>\n",
       "      <td>2</td>\n",
       "      <td>4.9</td>\n",
       "      <td>3.0</td>\n",
       "      <td>1.4</td>\n",
       "      <td>0.2</td>\n",
       "      <td>Iris-setosa</td>\n",
       "    </tr>\n",
       "    <tr>\n",
       "      <th>2</th>\n",
       "      <td>3</td>\n",
       "      <td>4.7</td>\n",
       "      <td>3.2</td>\n",
       "      <td>1.3</td>\n",
       "      <td>0.2</td>\n",
       "      <td>Iris-setosa</td>\n",
       "    </tr>\n",
       "    <tr>\n",
       "      <th>3</th>\n",
       "      <td>4</td>\n",
       "      <td>4.6</td>\n",
       "      <td>3.1</td>\n",
       "      <td>1.5</td>\n",
       "      <td>0.2</td>\n",
       "      <td>Iris-setosa</td>\n",
       "    </tr>\n",
       "    <tr>\n",
       "      <th>4</th>\n",
       "      <td>5</td>\n",
       "      <td>5.0</td>\n",
       "      <td>3.6</td>\n",
       "      <td>1.4</td>\n",
       "      <td>0.2</td>\n",
       "      <td>Iris-setosa</td>\n",
       "    </tr>\n",
       "    <tr>\n",
       "      <th>5</th>\n",
       "      <td>6</td>\n",
       "      <td>5.4</td>\n",
       "      <td>3.9</td>\n",
       "      <td>1.7</td>\n",
       "      <td>0.4</td>\n",
       "      <td>Iris-setosa</td>\n",
       "    </tr>\n",
       "    <tr>\n",
       "      <th>6</th>\n",
       "      <td>7</td>\n",
       "      <td>4.6</td>\n",
       "      <td>3.4</td>\n",
       "      <td>1.4</td>\n",
       "      <td>0.3</td>\n",
       "      <td>Iris-setosa</td>\n",
       "    </tr>\n",
       "    <tr>\n",
       "      <th>7</th>\n",
       "      <td>8</td>\n",
       "      <td>5.0</td>\n",
       "      <td>3.4</td>\n",
       "      <td>1.5</td>\n",
       "      <td>0.2</td>\n",
       "      <td>Iris-setosa</td>\n",
       "    </tr>\n",
       "    <tr>\n",
       "      <th>8</th>\n",
       "      <td>9</td>\n",
       "      <td>4.4</td>\n",
       "      <td>2.9</td>\n",
       "      <td>1.4</td>\n",
       "      <td>0.2</td>\n",
       "      <td>Iris-setosa</td>\n",
       "    </tr>\n",
       "    <tr>\n",
       "      <th>9</th>\n",
       "      <td>10</td>\n",
       "      <td>4.9</td>\n",
       "      <td>3.1</td>\n",
       "      <td>1.5</td>\n",
       "      <td>0.1</td>\n",
       "      <td>Iris-setosa</td>\n",
       "    </tr>\n",
       "  </tbody>\n",
       "</table>\n",
       "</div>"
      ],
      "text/plain": [
       "   Id  SepalLengthCm  SepalWidthCm  PetalLengthCm  PetalWidthCm      Species\n",
       "0   1            5.1           3.5            1.4           0.2  Iris-setosa\n",
       "1   2            4.9           3.0            1.4           0.2  Iris-setosa\n",
       "2   3            4.7           3.2            1.3           0.2  Iris-setosa\n",
       "3   4            4.6           3.1            1.5           0.2  Iris-setosa\n",
       "4   5            5.0           3.6            1.4           0.2  Iris-setosa\n",
       "5   6            5.4           3.9            1.7           0.4  Iris-setosa\n",
       "6   7            4.6           3.4            1.4           0.3  Iris-setosa\n",
       "7   8            5.0           3.4            1.5           0.2  Iris-setosa\n",
       "8   9            4.4           2.9            1.4           0.2  Iris-setosa\n",
       "9  10            4.9           3.1            1.5           0.1  Iris-setosa"
      ]
     },
     "execution_count": 24,
     "metadata": {},
     "output_type": "execute_result"
    }
   ],
   "source": [
    "# menampilkan 10 baris awal dari dataset\n",
    "df3.head(10)"
   ]
  },
  {
   "cell_type": "markdown",
   "id": "579f363d-0104-4bcb-8a6d-30f5e2452fb1",
   "metadata": {
    "id": "579f363d-0104-4bcb-8a6d-30f5e2452fb1",
    "tags": []
   },
   "source": [
    "<hr>\n",
    "\n",
    "## Mengunduh data dari Google Drive\n",
    "\n",
    "dokumentasi lebih lanjut untuk <a href='https://github.com/wkentaro/gdown'>gdown</a>"
   ]
  },
  {
   "cell_type": "markdown",
   "id": "e7472463-5b60-41fa-8d9d-a73b4e2f40e7",
   "metadata": {
    "id": "e7472463-5b60-41fa-8d9d-a73b4e2f40e7"
   },
   "source": [
    "\n",
    "<center>\n",
    "    <img src=\"https://drive.google.com/uc?export=view&id=1Z70FugVY0UO8MInM3auxttTKiEIQE5ZI\" />\n",
    "</center>"
   ]
  },
  {
   "cell_type": "code",
   "execution_count": null,
   "id": "ihE_LhLDINNI",
   "metadata": {
    "id": "ihE_LhLDINNI"
   },
   "outputs": [],
   "source": [
    "# instalasi library gdown\n",
    "!pip install gdown"
   ]
  },
  {
   "cell_type": "code",
   "execution_count": null,
   "id": "0b255d9a-cd61-4dd1-8a90-605d3b174a44",
   "metadata": {
    "colab": {
     "base_uri": "https://localhost:8080/"
    },
    "executionInfo": {
     "elapsed": 2909,
     "status": "ok",
     "timestamp": 1663646650959,
     "user": {
      "displayName": "Ananda Bayu Aji",
      "userId": "13576047730572350906"
     },
     "user_tz": -420
    },
    "id": "0b255d9a-cd61-4dd1-8a90-605d3b174a44",
    "outputId": "ea7ff331-31b7-410c-b192-1ea9bb929060"
   },
   "outputs": [
    {
     "name": "stdout",
     "output_type": "stream",
     "text": [
      "Downloading...\n",
      "From: https://drive.google.com/uc?id=1WZbWFcfo5f1bqRkAfniDYh4CTWz4OhQC\n",
      "To: /home/user34/Sesi 2/Tourism marketing study dataset.csv.zip\n",
      "100%|██████████████████████████████████████| 3.65M/3.65M [00:00<00:00, 10.4MB/s]\n"
     ]
    }
   ],
   "source": [
    "# Pastikan untuk menginstal pustaka GDOWN terlebih dahulu di Sistem Anda\n",
    "import gdown\n",
    "#!gdown [id]\n",
    "!gdown 1WZbWFcfo5f1bqRkAfniDYh4CTWz4OhQC"
   ]
  },
  {
   "cell_type": "markdown",
   "id": "e5245f34-7617-425d-b09b-a533cb207fff",
   "metadata": {
    "id": "e5245f34-7617-425d-b09b-a533cb207fff"
   },
   "source": [
    "Unzipping the File"
   ]
  },
  {
   "cell_type": "code",
   "execution_count": null,
   "id": "72a64871-a340-4639-8da2-65a24732229a",
   "metadata": {
    "id": "72a64871-a340-4639-8da2-65a24732229a"
   },
   "outputs": [],
   "source": [
    "import shutil\n",
    "# Ubah PATH untuk dengan Direktori Anda sendiri\n",
    "path = 'Tourism marketing study dataset.csv.zip'\n",
    "shutil.unpack_archive(path)"
   ]
  }
 ],
 "metadata": {
  "colab": {
   "collapsed_sections": [
    "7fb56a5d-97bb-47f7-a3bd-941d70997d36"
   ],
   "provenance": []
  },
  "kernelspec": {
   "display_name": "Python 3 (ipykernel)",
   "language": "python",
   "name": "python3"
  },
  "language_info": {
   "codemirror_mode": {
    "name": "ipython",
    "version": 3
   },
   "file_extension": ".py",
   "mimetype": "text/x-python",
   "name": "python",
   "nbconvert_exporter": "python",
   "pygments_lexer": "ipython3",
   "version": "3.8.10"
  }
 },
 "nbformat": 4,
 "nbformat_minor": 5
}
