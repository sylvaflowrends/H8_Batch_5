{
 "cells": [
  {
   "cell_type": "markdown",
   "id": "41adeb03",
   "metadata": {
    "id": "41adeb03"
   },
   "source": [
    "<center>\n",
    "    <img src=\"https://drive.google.com/uc?export=view&id=1hDKusF04c0lNZA_qOShvWQrpImayVKz8\"  width=\"1000\" />\n",
    "</center>"
   ]
  },
  {
   "cell_type": "code",
   "execution_count": null,
   "id": "96a6de05",
   "metadata": {},
   "outputs": [],
   "source": [
    "#Sylva Flowrends\n",
    "#51420230\n",
    "#Universitas Gunadarma"
   ]
  },
  {
   "cell_type": "markdown",
   "id": "dZV4jxlPUXnX",
   "metadata": {
    "id": "dZV4jxlPUXnX"
   },
   "source": [
    "\n",
    "# Pertemuan 10 \n",
    "# Pembangunan Model : Decision Tree"
   ]
  },
  {
   "cell_type": "markdown",
   "id": "0cd41bad",
   "metadata": {
    "id": "0cd41bad"
   },
   "source": [
    "# About Iris dataset\n",
    "![](https://www.oreilly.com/library/view/python-artificial-intelligence/9781789539462/assets/462dc4fa-fd62-4539-8599-ac80a441382c.png)\n",
    "\n",
    "\n",
    "The iris dataset contains the following data **(Before Cleansing)**\n",
    "* 50 samples of 3 different species of iris (150 samples total)\n",
    "* Measurements: sepal length, sepal width, petal length, petal width\n",
    "* The format for the data: (sepal length, sepal width, petal length, petal width)"
   ]
  },
  {
   "cell_type": "markdown",
   "id": "48dde5ef",
   "metadata": {
    "id": "48dde5ef"
   },
   "source": [
    "### The variables are:\n",
    "![](https://i.imgur.com/PQqYGaW.png)\n",
    "* sepal_length: Sepal length, dalam Centimeter(Cm),sebagai <b>Input</b>.\n",
    "* sepal_width: Sepal width, dalam Centimeter(Cm), sebagai <b>Input</b>.\n",
    "* petal_length: Petal length, dalam Centimeter(Cm), sebagai <b>Input</b>.\n",
    "* petal_width: Petal width, dalam Centimeter(Cm), sebagai <b>Input</b>.\n",
    "* class: Iris Setosa, Versicolor, or Virginica, sebagai <b>Target</b>."
   ]
  },
  {
   "cell_type": "markdown",
   "id": "9fefdf3a",
   "metadata": {
    "id": "9fefdf3a"
   },
   "source": [
    "# Latihan (1)\n",
    "\n",
    "### Melakukan import library yang dibutuhkan"
   ]
  },
  {
   "cell_type": "code",
   "execution_count": 5,
   "id": "09143c9a",
   "metadata": {
    "_cell_guid": "b1076dfc-b9ad-4769-8c92-a6c4dae69d19",
    "_uuid": "8f2839f25d086af736a60e9eeb907d3b93b6e0e5",
    "id": "09143c9a"
   },
   "outputs": [],
   "source": [
    "# import library pandas\n",
    "import pandas as pd\n",
    "\n",
    "# Import library numpy\n",
    "import numpy as np\n",
    "\n",
    "# Import library matplotlib dan seaborn untuk visualisasi\n",
    "import matplotlib.pyplot as plt\n",
    "import seaborn as sns\n",
    "\n",
    "# me-non aktifkan peringatan pada python\n",
    "import warnings \n",
    "warnings.filterwarnings('ignore')"
   ]
  },
  {
   "cell_type": "markdown",
   "id": "LFPYVC33npIx",
   "metadata": {
    "id": "LFPYVC33npIx"
   },
   "source": [
    "Kode dibawah tidak perlu dijalankan apabila sudah mempunyai file <b>'Iris_AfterClean.csv'</b>"
   ]
  },
  {
   "cell_type": "code",
   "execution_count": 1,
   "id": "f1blWFtlwtjg",
   "metadata": {
    "colab": {
     "base_uri": "https://localhost:8080/"
    },
    "executionInfo": {
     "elapsed": 1845,
     "status": "ok",
     "timestamp": 1669798801163,
     "user": {
      "displayName": "Fanka Arie",
      "userId": "15789696764477938438"
     },
     "user_tz": -420
    },
    "id": "f1blWFtlwtjg",
    "outputId": "02b84cc8-09e1-40e8-e9fd-134b047bf1a3"
   },
   "outputs": [
    {
     "name": "stderr",
     "output_type": "stream",
     "text": [
      "Downloading...\n",
      "From: https://drive.google.com/uc?id=1-F8Aex060zVihmPI9DvoJo5AmUtomXCL\n",
      "To: C:\\Users\\ASUS\\anaconda3\\script_anaconda\\M10\\Iris_AfterClean.csv\n",
      "\n",
      "  0%|          | 0.00/4.47k [00:00<?, ?B/s]\n",
      "100%|##########| 4.47k/4.47k [00:00<?, ?B/s]\n"
     ]
    }
   ],
   "source": [
    "#Download dataset\n",
    "!gdown 1-F8Aex060zVihmPI9DvoJo5AmUtomXCL"
   ]
  },
  {
   "cell_type": "markdown",
   "id": "c475db1d",
   "metadata": {
    "id": "c475db1d"
   },
   "source": [
    "### Load Dataset"
   ]
  },
  {
   "cell_type": "code",
   "execution_count": 7,
   "id": "13b63136",
   "metadata": {
    "_cell_guid": "79c7e3d0-c299-4dcb-8224-4455121ee9b0",
    "_uuid": "d629ff2d2480ee46fbb7e2d37f6b5fab8052498a",
    "id": "13b63136"
   },
   "outputs": [],
   "source": [
    "#Panggil file (load file bernama Iris_AfterClean.csv) dan simpan dalam dataframe\n",
    "# Sesuaikan lokasi PATH dari dataset\n",
    "iris = pd.read_csv(r'C:\\Users\\ASUS\\anaconda3\\script_anaconda\\M10\\Iris_AfterClean.csv')"
   ]
  },
  {
   "cell_type": "markdown",
   "id": "nizuH3myVaCB",
   "metadata": {
    "id": "nizuH3myVaCB"
   },
   "source": [
    "# Latihan (2)\n",
    "Tampilkan 10 data teratas dari dataset <b> Iris </b>"
   ]
  },
  {
   "cell_type": "code",
   "execution_count": 9,
   "id": "11d89926",
   "metadata": {
    "colab": {
     "base_uri": "https://localhost:8080/",
     "height": 206
    },
    "id": "11d89926",
    "outputId": "391f5217-eae2-4d00-bad9-97491f55d485"
   },
   "outputs": [
    {
     "data": {
      "text/html": [
       "<div>\n",
       "<style scoped>\n",
       "    .dataframe tbody tr th:only-of-type {\n",
       "        vertical-align: middle;\n",
       "    }\n",
       "\n",
       "    .dataframe tbody tr th {\n",
       "        vertical-align: top;\n",
       "    }\n",
       "\n",
       "    .dataframe thead th {\n",
       "        text-align: right;\n",
       "    }\n",
       "</style>\n",
       "<table border=\"1\" class=\"dataframe\">\n",
       "  <thead>\n",
       "    <tr style=\"text-align: right;\">\n",
       "      <th></th>\n",
       "      <th>SepalLengthCm</th>\n",
       "      <th>SepalWidthCm</th>\n",
       "      <th>PetalLengthCm</th>\n",
       "      <th>PetalWidthCm</th>\n",
       "      <th>Species</th>\n",
       "    </tr>\n",
       "  </thead>\n",
       "  <tbody>\n",
       "    <tr>\n",
       "      <th>0</th>\n",
       "      <td>4.6</td>\n",
       "      <td>3.1</td>\n",
       "      <td>1.5</td>\n",
       "      <td>0.2</td>\n",
       "      <td>Iris-setosa</td>\n",
       "    </tr>\n",
       "    <tr>\n",
       "      <th>1</th>\n",
       "      <td>5.0</td>\n",
       "      <td>3.6</td>\n",
       "      <td>1.4</td>\n",
       "      <td>0.2</td>\n",
       "      <td>Iris-setosa</td>\n",
       "    </tr>\n",
       "    <tr>\n",
       "      <th>2</th>\n",
       "      <td>5.4</td>\n",
       "      <td>3.9</td>\n",
       "      <td>1.7</td>\n",
       "      <td>0.4</td>\n",
       "      <td>Iris-setosa</td>\n",
       "    </tr>\n",
       "    <tr>\n",
       "      <th>3</th>\n",
       "      <td>4.9</td>\n",
       "      <td>3.1</td>\n",
       "      <td>1.5</td>\n",
       "      <td>0.1</td>\n",
       "      <td>Iris-setosa</td>\n",
       "    </tr>\n",
       "    <tr>\n",
       "      <th>4</th>\n",
       "      <td>5.4</td>\n",
       "      <td>3.7</td>\n",
       "      <td>1.5</td>\n",
       "      <td>0.2</td>\n",
       "      <td>Iris-setosa</td>\n",
       "    </tr>\n",
       "    <tr>\n",
       "      <th>5</th>\n",
       "      <td>4.8</td>\n",
       "      <td>3.4</td>\n",
       "      <td>1.6</td>\n",
       "      <td>0.2</td>\n",
       "      <td>Iris-setosa</td>\n",
       "    </tr>\n",
       "    <tr>\n",
       "      <th>6</th>\n",
       "      <td>4.8</td>\n",
       "      <td>3.0</td>\n",
       "      <td>1.4</td>\n",
       "      <td>0.1</td>\n",
       "      <td>Iris-setosa</td>\n",
       "    </tr>\n",
       "    <tr>\n",
       "      <th>7</th>\n",
       "      <td>4.3</td>\n",
       "      <td>3.0</td>\n",
       "      <td>1.1</td>\n",
       "      <td>0.1</td>\n",
       "      <td>Iris-setosa</td>\n",
       "    </tr>\n",
       "    <tr>\n",
       "      <th>8</th>\n",
       "      <td>5.8</td>\n",
       "      <td>4.0</td>\n",
       "      <td>1.2</td>\n",
       "      <td>0.2</td>\n",
       "      <td>Iris-setosa</td>\n",
       "    </tr>\n",
       "    <tr>\n",
       "      <th>9</th>\n",
       "      <td>5.4</td>\n",
       "      <td>3.9</td>\n",
       "      <td>1.3</td>\n",
       "      <td>0.4</td>\n",
       "      <td>Iris-setosa</td>\n",
       "    </tr>\n",
       "  </tbody>\n",
       "</table>\n",
       "</div>"
      ],
      "text/plain": [
       "   SepalLengthCm  SepalWidthCm  PetalLengthCm  PetalWidthCm      Species\n",
       "0            4.6           3.1            1.5           0.2  Iris-setosa\n",
       "1            5.0           3.6            1.4           0.2  Iris-setosa\n",
       "2            5.4           3.9            1.7           0.4  Iris-setosa\n",
       "3            4.9           3.1            1.5           0.1  Iris-setosa\n",
       "4            5.4           3.7            1.5           0.2  Iris-setosa\n",
       "5            4.8           3.4            1.6           0.2  Iris-setosa\n",
       "6            4.8           3.0            1.4           0.1  Iris-setosa\n",
       "7            4.3           3.0            1.1           0.1  Iris-setosa\n",
       "8            5.8           4.0            1.2           0.2  Iris-setosa\n",
       "9            5.4           3.9            1.3           0.4  Iris-setosa"
      ]
     },
     "execution_count": 9,
     "metadata": {},
     "output_type": "execute_result"
    }
   ],
   "source": [
    "# tampilkan 10 baris data teratas\n",
    "iris[0:10]"
   ]
  },
  {
   "cell_type": "markdown",
   "id": "IIcVwIUmVv8W",
   "metadata": {
    "id": "IIcVwIUmVv8W"
   },
   "source": [
    "# Latihan (3)\n",
    "Tampilkan 5 data terbawah dari dataset <b> Iris</b>"
   ]
  },
  {
   "cell_type": "code",
   "execution_count": 11,
   "id": "YnHmH8vqVupX",
   "metadata": {
    "id": "YnHmH8vqVupX"
   },
   "outputs": [
    {
     "data": {
      "text/html": [
       "<div>\n",
       "<style scoped>\n",
       "    .dataframe tbody tr th:only-of-type {\n",
       "        vertical-align: middle;\n",
       "    }\n",
       "\n",
       "    .dataframe tbody tr th {\n",
       "        vertical-align: top;\n",
       "    }\n",
       "\n",
       "    .dataframe thead th {\n",
       "        text-align: right;\n",
       "    }\n",
       "</style>\n",
       "<table border=\"1\" class=\"dataframe\">\n",
       "  <thead>\n",
       "    <tr style=\"text-align: right;\">\n",
       "      <th></th>\n",
       "      <th>SepalLengthCm</th>\n",
       "      <th>SepalWidthCm</th>\n",
       "      <th>PetalLengthCm</th>\n",
       "      <th>PetalWidthCm</th>\n",
       "      <th>Species</th>\n",
       "    </tr>\n",
       "  </thead>\n",
       "  <tbody>\n",
       "    <tr>\n",
       "      <th>135</th>\n",
       "      <td>6.7</td>\n",
       "      <td>3.0</td>\n",
       "      <td>5.2</td>\n",
       "      <td>2.3</td>\n",
       "      <td>Iris-virginica</td>\n",
       "    </tr>\n",
       "    <tr>\n",
       "      <th>136</th>\n",
       "      <td>6.3</td>\n",
       "      <td>2.5</td>\n",
       "      <td>5.0</td>\n",
       "      <td>1.9</td>\n",
       "      <td>Iris-virginica</td>\n",
       "    </tr>\n",
       "    <tr>\n",
       "      <th>137</th>\n",
       "      <td>6.5</td>\n",
       "      <td>3.0</td>\n",
       "      <td>5.2</td>\n",
       "      <td>2.0</td>\n",
       "      <td>Iris-virginica</td>\n",
       "    </tr>\n",
       "    <tr>\n",
       "      <th>138</th>\n",
       "      <td>6.2</td>\n",
       "      <td>3.4</td>\n",
       "      <td>5.4</td>\n",
       "      <td>2.3</td>\n",
       "      <td>Iris-virginica</td>\n",
       "    </tr>\n",
       "    <tr>\n",
       "      <th>139</th>\n",
       "      <td>5.9</td>\n",
       "      <td>3.0</td>\n",
       "      <td>5.1</td>\n",
       "      <td>1.8</td>\n",
       "      <td>Iris-virginica</td>\n",
       "    </tr>\n",
       "  </tbody>\n",
       "</table>\n",
       "</div>"
      ],
      "text/plain": [
       "     SepalLengthCm  SepalWidthCm  PetalLengthCm  PetalWidthCm         Species\n",
       "135            6.7           3.0            5.2           2.3  Iris-virginica\n",
       "136            6.3           2.5            5.0           1.9  Iris-virginica\n",
       "137            6.5           3.0            5.2           2.0  Iris-virginica\n",
       "138            6.2           3.4            5.4           2.3  Iris-virginica\n",
       "139            5.9           3.0            5.1           1.8  Iris-virginica"
      ]
     },
     "execution_count": 11,
     "metadata": {},
     "output_type": "execute_result"
    }
   ],
   "source": [
    "# 5 data terbawah\n",
    "iris.tail()"
   ]
  },
  {
   "cell_type": "markdown",
   "id": "40cfa1f2",
   "metadata": {
    "id": "40cfa1f2"
   },
   "source": [
    "# Latihan (4)\n",
    "Definisikan variable X dengan kolom Input = <code>SepalLengthCm, SepalWidthCm,\tPetalLengthCm,\tPetalWidthCm</code>\n",
    "\n",
    "Definisikan variable Y dengan kolom target = <code>Species</code>"
   ]
  },
  {
   "cell_type": "code",
   "execution_count": 12,
   "id": "5f19f485",
   "metadata": {
    "id": "5f19f485"
   },
   "outputs": [],
   "source": [
    "X=iris.iloc[:, 0:4].values\n",
    "y=iris.iloc[:, 4:].values"
   ]
  },
  {
   "cell_type": "markdown",
   "id": "42c470b5",
   "metadata": {
    "id": "42c470b5"
   },
   "source": [
    "## Label encoding\n",
    "![](https://miro.medium.com/max/772/1*QQe-4476Oy3_dI1vhb3dDg.png)\n",
    "\n",
    "\n",
    "Seperti yang kita lihat, label bersifat kategoris. KNeighborsClassifier tidak menerima label string. Kita perlu menggunakan LabelEncoder untuk mengubahnya menjadi angka. Iris-setosa sesuai dengan 0, Iris-versicolor sesuai dengan 1 dan Iris-virginica sesuai dengan 2."
   ]
  },
  {
   "cell_type": "markdown",
   "id": "d1d74e03",
   "metadata": {
    "id": "d1d74e03"
   },
   "source": [
    "\n",
    "\n",
    "### Transformasi label data species dengan menggunakan library LabelEncoder"
   ]
  },
  {
   "cell_type": "code",
   "execution_count": 13,
   "id": "680f63df",
   "metadata": {
    "id": "680f63df"
   },
   "outputs": [],
   "source": [
    "from sklearn.preprocessing import LabelEncoder\n",
    "le = LabelEncoder()\n",
    "y = le.fit_transform(y)"
   ]
  },
  {
   "cell_type": "markdown",
   "id": "ecd44a3e",
   "metadata": {
    "id": "ecd44a3e"
   },
   "source": [
    "# 3. Building Machine Learning Models"
   ]
  },
  {
   "cell_type": "markdown",
   "id": "d35b4356",
   "metadata": {
    "id": "d35b4356"
   },
   "source": [
    "### Import library dalam kebutuhan membangun model "
   ]
  },
  {
   "cell_type": "code",
   "execution_count": 14,
   "id": "d2e1986a",
   "metadata": {
    "id": "d2e1986a"
   },
   "outputs": [],
   "source": [
    "#Metrics\n",
    "from sklearn.metrics import make_scorer, accuracy_score,precision_score\n",
    "from sklearn.metrics import classification_report\n",
    "\n",
    "# Import Library Confussion Matrix\n",
    "from sklearn.metrics import confusion_matrix\n",
    "\n",
    "from sklearn.metrics import accuracy_score ,precision_score,recall_score,f1_score\n",
    "\n",
    "#Model Select\n",
    "from sklearn.model_selection import KFold,train_test_split,cross_val_score\n",
    "\n",
    "# Import Library Random Forest Classifier\n",
    "from sklearn.ensemble import RandomForestClassifier\n",
    "from sklearn import tree\n",
    "\n",
    "from sklearn.model_selection import train_test_split\n",
    "\n",
    "from sklearn import linear_model\n"
   ]
  },
  {
   "cell_type": "markdown",
   "id": "28c62967",
   "metadata": {
    "id": "28c62967"
   },
   "source": [
    "### Splitting The Data into Training And Testing Dataset\n",
    "![](https://data-flair.training/blogs/wp-content/uploads/sites/2/2018/08/1-16.png)"
   ]
  },
  {
   "cell_type": "markdown",
   "id": "7e0c8273",
   "metadata": {
    "id": "7e0c8273"
   },
   "source": [
    "Train/test split adalah salah satu metode yang dapat digunakan untuk mengevaluasi performa model machine learning. Metode evaluasi model ini membagi dataset menjadi dua bagian yakni bagian yang digunakan untuk training data dan untuk testing data dengan proporsi tertentu. Train data digunakan untuk fit model machine learning, sedangkan test data digunakan untuk mengevaluasi hasil fit model tersebut.\n",
    "\n",
    "![image.png](attachment:image.png)\n",
    "\n",
    "\n",
    "Python memiliki library yang dapat mengimplementasikan train/test split dengan mudah yaitu Scikit-Learn. Untuk menggunakannya, kita perlu mengimport Scikit-Learn terlebih dahulu, kemudian setelah itu kita dapat menggunakan fungsi train_test_split()."
   ]
  },
  {
   "cell_type": "markdown",
   "id": "867b1809",
   "metadata": {
    "id": "867b1809"
   },
   "source": [
    "# Latihan (5)\n",
    "\n",
    "### split data train dan test dengan function train_test_split() dengan train_size= 70%, test_size= 30% dan random_state=0"
   ]
  },
  {
   "cell_type": "code",
   "execution_count": 16,
   "id": "fdab2ef3",
   "metadata": {
    "id": "fdab2ef3"
   },
   "outputs": [],
   "source": [
    "X_train,X_test,y_train,y_test=train_test_split(X,y,train_size= 0.7,test_size=0.3,random_state=0)"
   ]
  },
  {
   "cell_type": "markdown",
   "id": "c75d18d7",
   "metadata": {
    "id": "c75d18d7"
   },
   "source": [
    "Sekarang kita akan melatih beberapa model Machine Learning dan membandingkan hasilnya. Perhatikan bahwa karena set data tidak memberikan label untuk set pengujiannya, kita perlu menggunakan prediksi pada set pelatihan untuk membandingkan algoritme satu sama lain."
   ]
  },
  {
   "cell_type": "markdown",
   "id": "20422bec",
   "metadata": {
    "id": "20422bec"
   },
   "source": [
    "### 3.1 Decision Tree:\n",
    "\n",
    "decision tree adalah struktur seperti diagram alur di mana setiap simpul internal mewakili pengujian pada fitur (misalnya apakah flip koin muncul kepala atau ekor), setiap simpul daun mewakili label kelas (keputusan diambil setelah menghitung semua fitur) dan cabang mewakili konjungsi fitur yang mengarah ke label kelas tersebut. Jalur dari akar ke daun mewakili aturan klasifikasi.\n",
    "\n",
    "![](https://miro.medium.com/max/1000/1*LMoJmXCsQlciGTEyoSN39g.jpeg)"
   ]
  },
  {
   "cell_type": "markdown",
   "id": "2b1007bf",
   "metadata": {
    "id": "2b1007bf"
   },
   "source": [
    "\n",
    "\n",
    "### Bangun model DecisionTreeClassifier dan akurasi nya"
   ]
  },
  {
   "cell_type": "code",
   "execution_count": 18,
   "id": "5f037719",
   "metadata": {
    "colab": {
     "base_uri": "https://localhost:8080/"
    },
    "executionInfo": {
     "elapsed": 5,
     "status": "ok",
     "timestamp": 1669798850401,
     "user": {
      "displayName": "Fanka Arie",
      "userId": "15789696764477938438"
     },
     "user_tz": -420
    },
    "id": "5f037719",
    "outputId": "3011995c-29c5-47ae-d095-f35cdf8f1bba"
   },
   "outputs": [
    {
     "name": "stdout",
     "output_type": "stream",
     "text": [
      "Confusion matrix for DecisionTree\n",
      " [[12  0  0]\n",
      " [ 0 12  3]\n",
      " [ 0  2 13]]\n",
      "accuracy_DecisionTree: 0.881\n",
      "precision_DecisionTree: 0.881\n",
      "recall_DecisionTree: 0.881\n",
      "f1-score_DecisionTree : 0.881\n"
     ]
    }
   ],
   "source": [
    "decision_tree=tree.DecisionTreeClassifier()\n",
    "decision_tree.fit(X_train, y_train)  \n",
    "Y_pred = decision_tree.predict(X_test) \n",
    "accuracy_dt=round(accuracy_score(y_test,Y_pred)* 100, 2)\n",
    "acc_decision_tree = round(decision_tree.score(X_train, y_train) * 100, 2)\n",
    "\n",
    "cm = confusion_matrix(y_test, Y_pred)\n",
    "accuracy = accuracy_score(y_test,Y_pred)\n",
    "precision =precision_score(y_test, Y_pred,average='micro')\n",
    "recall =  recall_score(y_test, Y_pred,average='micro')\n",
    "f1 = f1_score(y_test,Y_pred,average='micro')\n",
    "print('Confusion matrix for DecisionTree\\n',cm)\n",
    "print('accuracy_DecisionTree: %.3f' %accuracy)\n",
    "print('precision_DecisionTree: %.3f' %precision)\n",
    "print('recall_DecisionTree: %.3f' %recall)\n",
    "print('f1-score_DecisionTree : %.3f' %f1)"
   ]
  },
  {
   "cell_type": "code",
   "execution_count": 19,
   "id": "PHE3tp_OwPBs",
   "metadata": {
    "colab": {
     "base_uri": "https://localhost:8080/"
    },
    "executionInfo": {
     "elapsed": 310,
     "status": "ok",
     "timestamp": 1669798884046,
     "user": {
      "displayName": "Fanka Arie",
      "userId": "15789696764477938438"
     },
     "user_tz": -420
    },
    "id": "PHE3tp_OwPBs",
    "outputId": "c38f68a8-1251-48c5-ee14-eeca2f4931d3"
   },
   "outputs": [
    {
     "name": "stdout",
     "output_type": "stream",
     "text": [
      "    Actual  Predicted\n",
      "0        1          1\n",
      "1        1          1\n",
      "2        0          0\n",
      "3        1          1\n",
      "4        2          2\n",
      "5        0          0\n",
      "6        2          2\n",
      "7        2          2\n",
      "8        2          2\n",
      "9        0          0\n",
      "10       2          2\n",
      "11       0          0\n",
      "12       1          1\n",
      "13       1          1\n",
      "14       2          1\n",
      "15       2          2\n",
      "16       2          2\n",
      "17       2          2\n",
      "18       0          0\n",
      "19       2          2\n",
      "20       2          2\n",
      "21       0          0\n",
      "22       2          2\n",
      "23       0          0\n",
      "24       0          0\n",
      "25       1          1\n",
      "26       0          0\n",
      "27       1          1\n",
      "28       0          0\n",
      "29       0          0\n",
      "30       1          1\n",
      "31       1          1\n",
      "32       2          1\n",
      "33       1          2\n",
      "34       2          2\n",
      "35       1          2\n",
      "36       1          2\n",
      "37       2          2\n",
      "38       1          1\n",
      "39       1          1\n",
      "40       1          1\n",
      "41       0          0\n"
     ]
    }
   ],
   "source": [
    "df_merge = pd.DataFrame({'Actual': y_test, 'Predicted': Y_pred})\n",
    "print(df_merge)"
   ]
  },
  {
   "cell_type": "code",
   "execution_count": null,
   "id": "9674766c",
   "metadata": {},
   "outputs": [],
   "source": []
  }
 ],
 "metadata": {
  "colab": {
   "provenance": [
    {
     "file_id": "1KGXMkPNJr_D75ZOMfuDE6q4jfLzwnnab",
     "timestamp": 1669858944331
    }
   ]
  },
  "kernelspec": {
   "display_name": "Python 3 (ipykernel)",
   "language": "python",
   "name": "python3"
  },
  "language_info": {
   "codemirror_mode": {
    "name": "ipython",
    "version": 3
   },
   "file_extension": ".py",
   "mimetype": "text/x-python",
   "name": "python",
   "nbconvert_exporter": "python",
   "pygments_lexer": "ipython3",
   "version": "3.9.13"
  }
 },
 "nbformat": 4,
 "nbformat_minor": 5
}
