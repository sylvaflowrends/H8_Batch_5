{
 "cells": [
  {
   "cell_type": "markdown",
   "id": "9f9f0f5d",
   "metadata": {},
   "source": [
    "### M4 Rekaya Komputasional\n",
    "#### Nama : Sylva Flowrends\n",
    "#### NPM   : 51420230\n",
    "#### Kelas : 3IA16 "
   ]
  },
  {
   "cell_type": "code",
   "execution_count": 2,
   "id": "4ca9f324",
   "metadata": {},
   "outputs": [],
   "source": [
    "import math"
   ]
  },
  {
   "cell_type": "code",
   "execution_count": 6,
   "id": "9982fd08",
   "metadata": {},
   "outputs": [
    {
     "name": "stdout",
     "output_type": "stream",
     "text": [
      "Masukkan nilai x = 2\n",
      "Hasil dari e ^ 2.0  = 7.38905609893065\n"
     ]
    }
   ],
   "source": [
    "x_val = float(input('Masukkan nilai x = '))\n",
    "print('Hasil dari e ^', x_val, ' =', math.exp(x_val))"
   ]
  },
  {
   "cell_type": "code",
   "execution_count": 5,
   "id": "33fc8596",
   "metadata": {},
   "outputs": [
    {
     "name": "stdout",
     "output_type": "stream",
     "text": [
      "Masukkan nilai x = 30\n",
      "Hasil dari cos 30.0  = 0.15425144988758405\n"
     ]
    }
   ],
   "source": [
    "n_val = float(input('Masukkan nilai x = '))\n",
    "print('Hasil dari cos', n_val, ' =', math.cos(n_val))"
   ]
  },
  {
   "cell_type": "code",
   "execution_count": 9,
   "id": "49fddbad",
   "metadata": {},
   "outputs": [
    {
     "name": "stdout",
     "output_type": "stream",
     "text": [
      "Masukkan nilai x = 90\n",
      "Hasil dari sin 90.0  = 0.8939966636005579\n"
     ]
    }
   ],
   "source": [
    "y_val = float(input('Masukkan nilai x = '))\n",
    "print('Hasil dari sin', y_val, ' =', math.sin(y_val))"
   ]
  },
  {
   "cell_type": "code",
   "execution_count": 7,
   "id": "13c2e9fb",
   "metadata": {},
   "outputs": [],
   "source": [
    "def menghitung_cos (z):\n",
    "    z = float(input('Masukkan nilai = '))\n",
    "    r = math.radians(z)\n",
    "    cos_val = math.cos(r)\n",
    "    return cos_val\n",
    "    sudut = 45\n",
    "    hasil_cos = menghitung_cos(sudut)\n",
    "    print(\"nilai cosinus dari \", sudut, \"derajatnya adalah \", hasil_cos)"
   ]
  },
  {
   "cell_type": "code",
   "execution_count": null,
   "id": "af2a1113",
   "metadata": {},
   "outputs": [],
   "source": []
  }
 ],
 "metadata": {
  "kernelspec": {
   "display_name": "Python 3 (ipykernel)",
   "language": "python",
   "name": "python3"
  },
  "language_info": {
   "codemirror_mode": {
    "name": "ipython",
    "version": 3
   },
   "file_extension": ".py",
   "mimetype": "text/x-python",
   "name": "python",
   "nbconvert_exporter": "python",
   "pygments_lexer": "ipython3",
   "version": "3.9.13"
  }
 },
 "nbformat": 4,
 "nbformat_minor": 5
}
