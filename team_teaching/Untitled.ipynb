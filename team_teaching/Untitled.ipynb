{
 "cells": [
  {
   "cell_type": "markdown",
   "id": "b53e0e56",
   "metadata": {},
   "source": [
    "#### Nama : Sylva Flowrends\n",
    "#### NPM : 51420230\n",
    "#### Kelas : 3IA16\n",
    "#### M9 "
   ]
  }
 ],
 "metadata": {
  "kernelspec": {
   "display_name": "Python 3 (ipykernel)",
   "language": "python",
   "name": "python3"
  },
  "language_info": {
   "codemirror_mode": {
    "name": "ipython",
    "version": 3
   },
   "file_extension": ".py",
   "mimetype": "text/x-python",
   "name": "python",
   "nbconvert_exporter": "python",
   "pygments_lexer": "ipython3",
   "version": "3.9.13"
  }
 },
 "nbformat": 4,
 "nbformat_minor": 5
}
