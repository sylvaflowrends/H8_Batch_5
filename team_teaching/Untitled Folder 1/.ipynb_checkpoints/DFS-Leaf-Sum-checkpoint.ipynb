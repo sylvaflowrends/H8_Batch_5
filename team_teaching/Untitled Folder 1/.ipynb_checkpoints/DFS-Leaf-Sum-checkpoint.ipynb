{
 "cells": [
  {
   "cell_type": "code",
   "execution_count": 1,
   "id": "2f54fe19",
   "metadata": {},
   "outputs": [],
   "source": [
    "graph = {\n",
    "    'A' : ['B','C'],\n",
    "    'B' : ['D', 'E'],\n",
    "    'C' : [],\n",
    "    'D' : [],\n",
    "    'E' : ['F'],\n",
    "    'F' : []\n",
    "}\n",
    "#nambah\n",
    "graph_val = {\"A\": 10, 'B': 12, 'C': 3, 'D': 4, 'E': -6, 'F': -5}"
   ]
  },
  {
   "cell_type": "code",
   "execution_count": 2,
   "id": "7e9fdab0",
   "metadata": {},
   "outputs": [],
   "source": [
    "visited = set() # Set to keep track of visited nodes."
   ]
  },
  {
   "cell_type": "code",
   "execution_count": 3,
   "id": "24a0b215",
   "metadata": {},
   "outputs": [],
   "source": [
    "leaf = set() # nambah"
   ]
  },
  {
   "cell_type": "code",
   "execution_count": 4,
   "id": "a16da655",
   "metadata": {},
   "outputs": [],
   "source": [
    "def dfs(visited, graph, node):\n",
    "    if node not in visited:\n",
    "        visited.add(node)\n",
    "        # menambahkan ini dari koding sebelumnya\n",
    "        if len(graph[node]) == 0:\n",
    "            leaf.add(node)\n",
    "        for neighbour in graph[node]:\n",
    "            dfs(visited, graph, neighbour)"
   ]
  },
  {
   "cell_type": "code",
   "execution_count": 5,
   "id": "e2427272",
   "metadata": {},
   "outputs": [],
   "source": [
    "def leaf_sum(leaf):\n",
    "    jmlh = 0\n",
    "    for leaf_node in leaf:\n",
    "        leaf_val = graph_val[leaf_node]\n",
    "        jmlh = jmlh + leaf_val\n",
    "        \n",
    "    return jmlh"
   ]
  },
  {
   "cell_type": "code",
   "execution_count": 6,
   "id": "0391122b",
   "metadata": {},
   "outputs": [],
   "source": [
    "# Driver Code\n",
    "dfs(visited, graph, 'A')"
   ]
  },
  {
   "cell_type": "code",
   "execution_count": 7,
   "id": "3c74d5be",
   "metadata": {},
   "outputs": [
    {
     "data": {
      "text/plain": [
       "2"
      ]
     },
     "execution_count": 7,
     "metadata": {},
     "output_type": "execute_result"
    }
   ],
   "source": [
    "leaf_sum(leaf)"
   ]
  },
  {
   "cell_type": "code",
   "execution_count": null,
   "id": "9328cbb9",
   "metadata": {},
   "outputs": [],
   "source": []
  }
 ],
 "metadata": {
  "kernelspec": {
   "display_name": "Python 3 (ipykernel)",
   "language": "python",
   "name": "python3"
  },
  "language_info": {
   "codemirror_mode": {
    "name": "ipython",
    "version": 3
   },
   "file_extension": ".py",
   "mimetype": "text/x-python",
   "name": "python",
   "nbconvert_exporter": "python",
   "pygments_lexer": "ipython3",
   "version": "3.8.10"
  }
 },
 "nbformat": 4,
 "nbformat_minor": 5
}
