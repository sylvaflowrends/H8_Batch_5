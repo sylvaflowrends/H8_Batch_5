{
 "cells": [
  {
   "cell_type": "code",
   "execution_count": 1,
   "id": "eff8745f",
   "metadata": {},
   "outputs": [],
   "source": [
    "# A binary tree node\n",
    "class Node:\n",
    "    # Constructor to create a new node\n",
    "    def __init__(self, data):\n",
    "        self.data = data\n",
    "        self.left = None\n",
    "        self.right = None"
   ]
  },
  {
   "cell_type": "code",
   "execution_count": 2,
   "id": "a18966da",
   "metadata": {},
   "outputs": [],
   "source": [
    "# Compute the \"maxDepth\" of a tree -- the number of nodes\n",
    "# along the longest path from the root node down to the\n",
    "# farthest leaf node\n",
    "def maxDepth(node):\n",
    "    if node is None:\n",
    "        return -1 ;\n",
    " \n",
    "    else :\n",
    " \n",
    "        # Compute the depth of each subtree\n",
    "        lDepth = maxDepth(node.left)\n",
    "        rDepth = maxDepth(node.right)\n",
    " \n",
    "        # Use the larger one\n",
    "        if (lDepth > rDepth):\n",
    "            return lDepth+1\n",
    "        else:\n",
    "            return rDepth+1"
   ]
  },
  {
   "cell_type": "code",
   "execution_count": 3,
   "id": "fd2a3bdd",
   "metadata": {},
   "outputs": [],
   "source": [
    "# Driver program to test above function\n",
    "root = Node(1)\n",
    "root.left = Node(2)\n",
    "root.right = Node(3)\n",
    "root.left.left = Node(4)\n",
    "root.left.right = Node(5)"
   ]
  },
  {
   "cell_type": "code",
   "execution_count": 4,
   "id": "59ae0df3",
   "metadata": {},
   "outputs": [
    {
     "name": "stdout",
     "output_type": "stream",
     "text": [
      "Height of tree is 2\n"
     ]
    }
   ],
   "source": [
    "print (\"Height of tree is %d\" %(maxDepth(root)))\n",
    " \n",
    "# This code is contributed by Amit Srivastav"
   ]
  },
  {
   "cell_type": "code",
   "execution_count": null,
   "id": "52af4dfa",
   "metadata": {},
   "outputs": [],
   "source": []
  },
  {
   "cell_type": "code",
   "execution_count": null,
   "id": "e01bf280",
   "metadata": {},
   "outputs": [],
   "source": []
  }
 ],
 "metadata": {
  "kernelspec": {
   "display_name": "Python 3 (ipykernel)",
   "language": "python",
   "name": "python3"
  },
  "language_info": {
   "codemirror_mode": {
    "name": "ipython",
    "version": 3
   },
   "file_extension": ".py",
   "mimetype": "text/x-python",
   "name": "python",
   "nbconvert_exporter": "python",
   "pygments_lexer": "ipython3",
   "version": "3.8.10"
  }
 },
 "nbformat": 4,
 "nbformat_minor": 5
}
