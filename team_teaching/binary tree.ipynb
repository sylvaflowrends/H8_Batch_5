{
 "cells": [
  {
   "cell_type": "markdown",
   "id": "36b8996a",
   "metadata": {},
   "source": [
    "### M5 Binary Tree\n",
    "#### Nama : Sylva Flowrends\n",
    "#### NPM : 51420230\n",
    "#### Kelas : 3IA16"
   ]
  },
  {
   "cell_type": "code",
   "execution_count": 2,
   "id": "8d5c0fdf",
   "metadata": {},
   "outputs": [
    {
     "name": "stdout",
     "output_type": "stream",
     "text": [
      "Collecting binarytree\n",
      "  Downloading binarytree-6.5.1-py3-none-any.whl (18 kB)\n",
      "Requirement already satisfied: setuptools>=60.8.2 in c:\\users\\asus\\anaconda3\\lib\\site-packages (from binarytree) (63.4.1)\n",
      "Collecting graphviz\n",
      "  Downloading graphviz-0.20.1-py3-none-any.whl (47 kB)\n",
      "     ---------------------------------------- 47.0/47.0 kB 2.5 MB/s eta 0:00:00\n",
      "Collecting setuptools-scm[toml]>=5.0.1\n",
      "  Downloading setuptools_scm-7.1.0-py3-none-any.whl (43 kB)\n",
      "     ---------------------------------------- 43.8/43.8 kB ? eta 0:00:00\n",
      "Requirement already satisfied: tomli>=1.0.0 in c:\\users\\asus\\anaconda3\\lib\\site-packages (from setuptools-scm[toml]>=5.0.1->binarytree) (2.0.1)\n",
      "Requirement already satisfied: typing-extensions in c:\\users\\asus\\anaconda3\\lib\\site-packages (from setuptools-scm[toml]>=5.0.1->binarytree) (4.3.0)\n",
      "Requirement already satisfied: packaging>=20.0 in c:\\users\\asus\\anaconda3\\lib\\site-packages (from setuptools-scm[toml]>=5.0.1->binarytree) (21.3)\n",
      "Requirement already satisfied: pyparsing!=3.0.5,>=2.0.2 in c:\\users\\asus\\anaconda3\\lib\\site-packages (from packaging>=20.0->setuptools-scm[toml]>=5.0.1->binarytree) (3.0.9)\n",
      "Installing collected packages: graphviz, setuptools-scm, binarytree\n",
      "Successfully installed binarytree-6.5.1 graphviz-0.20.1 setuptools-scm-7.1.0\n",
      "Note: you may need to restart the kernel to use updated packages.\n"
     ]
    }
   ],
   "source": [
    "pip install binarytree"
   ]
  },
  {
   "cell_type": "code",
   "execution_count": 1,
   "id": "ced0ca93",
   "metadata": {},
   "outputs": [],
   "source": [
    "from binarytree import build"
   ]
  },
  {
   "cell_type": "code",
   "execution_count": 2,
   "id": "93e8fc3b",
   "metadata": {},
   "outputs": [],
   "source": [
    "#list of nodes\n",
    "nodes = [3, 6, 8, 2, 11, None, 13]"
   ]
  },
  {
   "cell_type": "code",
   "execution_count": 3,
   "id": "39f0ebb0",
   "metadata": {},
   "outputs": [
    {
     "name": "stdout",
     "output_type": "stream",
     "text": [
      "binary tree from list :\n",
      " \n",
      "    ___3\n",
      "   /    \\\n",
      "  6      8\n",
      " / \\      \\\n",
      "2   11     13\n",
      "\n"
     ]
    }
   ],
   "source": [
    "binary_tree = build(nodes)\n",
    "print('binary tree from list :\\n', \n",
    "       binary_tree)"
   ]
  },
  {
   "cell_type": "code",
   "execution_count": 4,
   "id": "1a31b13b",
   "metadata": {},
   "outputs": [
    {
     "name": "stdout",
     "output_type": "stream",
     "text": [
      "\n",
      "List ftom binary tree :  [3, 6, 8, 2, 11, None, 13]\n"
     ]
    }
   ],
   "source": [
    "#Getting list of nodes from binary tree\n",
    "print('\\nList ftom binary tree : ',\n",
    "     binary_tree.values)"
   ]
  },
  {
   "cell_type": "code",
   "execution_count": null,
   "id": "07121a5d",
   "metadata": {},
   "outputs": [],
   "source": []
  }
 ],
 "metadata": {
  "kernelspec": {
   "display_name": "Python 3 (ipykernel)",
   "language": "python",
   "name": "python3"
  },
  "language_info": {
   "codemirror_mode": {
    "name": "ipython",
    "version": 3
   },
   "file_extension": ".py",
   "mimetype": "text/x-python",
   "name": "python",
   "nbconvert_exporter": "python",
   "pygments_lexer": "ipython3",
   "version": "3.9.13"
  }
 },
 "nbformat": 4,
 "nbformat_minor": 5
}
