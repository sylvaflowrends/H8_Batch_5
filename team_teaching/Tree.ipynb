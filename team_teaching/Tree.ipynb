{
 "cells": [
  {
   "cell_type": "markdown",
   "id": "99429c4b",
   "metadata": {},
   "source": [
    "### M5 Tree\n",
    "#### Nama : Sylva Flowrends\n",
    "#### NPM : 51420230\n",
    "#### Kelas : 3IA16"
   ]
  },
  {
   "cell_type": "code",
   "execution_count": 3,
   "id": "6e2253cb",
   "metadata": {},
   "outputs": [
    {
     "name": "stdout",
     "output_type": "stream",
     "text": [
      "Collecting anytree\n",
      "  Downloading anytree-2.8.0-py2.py3-none-any.whl (41 kB)\n",
      "     ---------------------------------------- 41.7/41.7 kB 2.0 MB/s eta 0:00:00\n",
      "Requirement already satisfied: six>=1.9.0 in c:\\users\\asus\\anaconda3\\lib\\site-packages (from anytree) (1.16.0)\n",
      "Installing collected packages: anytree\n",
      "Successfully installed anytree-2.8.0\n",
      "Note: you may need to restart the kernel to use updated packages.\n"
     ]
    }
   ],
   "source": [
    "pip install anytree"
   ]
  },
  {
   "cell_type": "code",
   "execution_count": 1,
   "id": "eb661981",
   "metadata": {},
   "outputs": [],
   "source": [
    "from anytree import Node, RenderTree"
   ]
  },
  {
   "cell_type": "code",
   "execution_count": 2,
   "id": "a6565360",
   "metadata": {},
   "outputs": [],
   "source": [
    "root = Node(10)"
   ]
  },
  {
   "cell_type": "code",
   "execution_count": 3,
   "id": "05209732",
   "metadata": {},
   "outputs": [],
   "source": [
    "level_1_chlid_1 = Node(34, parent=root)\n",
    "level_1_chlid_2 = Node(89, parent=root)\n",
    "level_2_chlid_1 = Node(45, parent=level_1_chlid_1)\n",
    "level_2_chlid_2 = Node(50, parent=level_1_chlid_2)"
   ]
  },
  {
   "cell_type": "code",
   "execution_count": 4,
   "id": "d9a7e771",
   "metadata": {},
   "outputs": [
    {
     "name": "stdout",
     "output_type": "stream",
     "text": [
      "10\n",
      "├── 34\n",
      "│   └── 45\n",
      "└── 89\n",
      "    └── 50\n"
     ]
    }
   ],
   "source": [
    "for pre, fill, node in RenderTree(root):\n",
    "    print(\"%s%s\" % (pre, node.name))"
   ]
  }
 ],
 "metadata": {
  "kernelspec": {
   "display_name": "Python 3 (ipykernel)",
   "language": "python",
   "name": "python3"
  },
  "language_info": {
   "codemirror_mode": {
    "name": "ipython",
    "version": 3
   },
   "file_extension": ".py",
   "mimetype": "text/x-python",
   "name": "python",
   "nbconvert_exporter": "python",
   "pygments_lexer": "ipython3",
   "version": "3.9.13"
  }
 },
 "nbformat": 4,
 "nbformat_minor": 5
}
