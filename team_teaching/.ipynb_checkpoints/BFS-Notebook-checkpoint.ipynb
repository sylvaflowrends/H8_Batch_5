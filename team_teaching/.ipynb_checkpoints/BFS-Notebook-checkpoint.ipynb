{
 "cells": [
  {
   "cell_type": "code",
   "execution_count": 1,
   "id": "46e5539e",
   "metadata": {},
   "outputs": [],
   "source": [
    "graph = {\n",
    "  'A' : ['Z','S', 'T'],\n",
    "  'Z' : ['O'],\n",
    "  'O' : ['S1'],\n",
    "  'S1' : ['F','R'],\n",
    "  'F' : ['B'],\n",
    "  'B' : [],\n",
    "  'R' : [],\n",
    "  'S' : ['O1', 'F1', 'R1'],\n",
    "  'O1' : [],\n",
    "  'F1' : ['B1'],\n",
    "  'B1' : [],\n",
    "  'R1' : ['C', 'P'],\n",
    "  'C' : [],\n",
    "  'P' : [],\n",
    "  'T' : ['L'],\n",
    "  'L' : ['M'],\n",
    "  'M' : ['D'],\n",
    "  'D' : []\n",
    "}"
   ]
  },
  {
   "cell_type": "code",
   "execution_count": 2,
   "id": "5b591290",
   "metadata": {},
   "outputs": [],
   "source": [
    "visited = [] # List for visited nodes.\n",
    "queue = []     #Initialize a queue"
   ]
  },
  {
   "cell_type": "code",
   "execution_count": 3,
   "id": "ce9531b3",
   "metadata": {},
   "outputs": [],
   "source": [
    "def bfs(visited, graph, node): #function for BFS\n",
    "  visited.append(node)\n",
    "  queue.append(node)\n",
    "\n",
    "  while queue:          # Creating loop to visit each node\n",
    "    m = queue.pop(0) \n",
    "    print (m, end = \" \") \n",
    "\n",
    "    for neighbour in graph[m]:\n",
    "      if neighbour not in visited:\n",
    "        visited.append(neighbour)\n",
    "        queue.append(neighbour)"
   ]
  },
  {
   "cell_type": "code",
   "execution_count": 4,
   "id": "a1183b58",
   "metadata": {},
   "outputs": [
    {
     "name": "stdout",
     "output_type": "stream",
     "text": [
      "Following is the Breadth-First Search\n",
      "A Z S T O O1 F1 R1 L S1 B1 C P M F R D B "
     ]
    }
   ],
   "source": [
    "# Driver Code\n",
    "print(\"Following is the Breadth-First Search\")\n",
    "bfs(visited, graph, 'A') "
   ]
  },
  {
   "cell_type": "code",
   "execution_count": null,
   "id": "495329fa",
   "metadata": {},
   "outputs": [],
   "source": []
  }
 ],
 "metadata": {
  "kernelspec": {
   "display_name": "Python 3 (ipykernel)",
   "language": "python",
   "name": "python3"
  },
  "language_info": {
   "codemirror_mode": {
    "name": "ipython",
    "version": 3
   },
   "file_extension": ".py",
   "mimetype": "text/x-python",
   "name": "python",
   "nbconvert_exporter": "python",
   "pygments_lexer": "ipython3",
   "version": "3.8.10"
  }
 },
 "nbformat": 4,
 "nbformat_minor": 5
}
